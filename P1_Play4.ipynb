{
 "cells": [
  {
   "cell_type": "code",
   "execution_count": 1,
   "metadata": {
    "collapsed": true
   },
   "outputs": [],
   "source": [
    "# Common imports\n",
    "import numpy as np\n",
    "import numpy.random as rnd\n",
    "import os\n",
    "import pandas as pd\n",
    "\n",
    "# To make this notebook's output stable across runs\n",
    "rnd.seed(42)\n",
    "\n",
    "# To plot pretty figures\n",
    "%matplotlib inline\n",
    "import matplotlib\n",
    "import matplotlib.pyplot as plt\n",
    "plt.rcParams['axes.labelsize'] = 14\n",
    "plt.rcParams['xtick.labelsize'] = 12\n",
    "plt.rcParams['ytick.labelsize'] = 12\n",
    "\n",
    "# Show all columns when displaying dataframes\n",
    "pd.set_option('display.max_columns', None)"
   ]
  },
  {
   "cell_type": "code",
   "execution_count": 2,
   "metadata": {},
   "outputs": [],
   "source": [
    "csv_path = 'MIMIC II/DIAGNOSES_ICD.csv'\n",
    "diagnoses = pd.read_csv(csv_path)\n",
    "\n",
    "csv_path = 'MIMIC II/D_ICD_DIAGNOSES.csv'\n",
    "dir_diagnoses = pd.read_csv(csv_path)\n",
    "\n",
    "csv_path = 'MIMIC II/PROCEDURES_ICD.csv'\n",
    "procedures = pd.read_csv(csv_path)\n",
    "\n",
    "csv_path = 'MIMIC II/D_ICD_PROCEDURES.csv'\n",
    "dir_procedures = pd.read_csv(csv_path)\n",
    "\n",
    "csv_path = 'MIMIC II/ADMISSIONS.csv'\n",
    "admissions = pd.read_csv(csv_path)\n",
    "\n",
    "#csv_path = 'MIMIC II/NOTEEVENTS.csv'\n",
    "#noteevents = pd.read_csv(csv_path)"
   ]
  },
  {
   "cell_type": "code",
   "execution_count": 3,
   "metadata": {},
   "outputs": [],
   "source": [
    "diagnoses = diagnoses.drop(['ROW_ID', 'SEQ_NUM'], axis = 1)\n",
    "dir_diagnoses = dir_diagnoses.drop(['ROW_ID', 'LONG_TITLE'], axis = 1)\n",
    "procedures = procedures.drop(['ROW_ID', 'SEQ_NUM'], axis = 1)\n",
    "dir_procedures = dir_procedures.drop(['ROW_ID', 'LONG_TITLE'], axis = 1)\n",
    "admissions = admissions.drop(['ROW_ID', 'DEATHTIME', 'ADMISSION_TYPE', 'DISCHARGE_LOCATION', 'INSURANCE', 'LANGUAGE', 'RELIGION', 'MARITAL_STATUS', 'ETHNICITY', 'HAS_CHARTEVENTS_DATA'], axis = 1)"
   ]
  },
  {
   "cell_type": "code",
   "execution_count": 4,
   "metadata": {},
   "outputs": [
    {
     "name": "stdout",
     "output_type": "stream",
     "text": [
      "   SUBJECT_ID  HADM_ID   DIAGNOSES_SHORT_TITLE\n",
      "0         109   172335  Mal hyp kid w cr kid V\n",
      "1         109   173633  Mal hyp kid w cr kid V\n",
      "2         109   131345  Mal hyp kid w cr kid V\n",
      "3         109   131376  Mal hyp kid w cr kid V\n",
      "4         109   135923  Mal hyp kid w cr kid V\n",
      "<class 'pandas.core.frame.DataFrame'>\n",
      "Int64Index: 634709 entries, 0 to 634708\n",
      "Data columns (total 3 columns):\n",
      "SUBJECT_ID               634709 non-null int64\n",
      "HADM_ID                  634709 non-null int64\n",
      "DIAGNOSES_SHORT_TITLE    634709 non-null object\n",
      "dtypes: int64(2), object(1)\n",
      "memory usage: 19.4+ MB\n"
     ]
    }
   ],
   "source": [
    "diagnoses_new = pd.merge(diagnoses, dir_diagnoses, on = 'ICD9_CODE')\n",
    "diagnoses_new = diagnoses_new.drop('ICD9_CODE', axis = 1)\n",
    "diagnoses_new.columns = ['SUBJECT_ID', 'HADM_ID', 'DIAGNOSES_SHORT_TITLE']\n",
    "print(diagnoses_new.head())\n",
    "diagnoses_new.info()"
   ]
  },
  {
   "cell_type": "code",
   "execution_count": 5,
   "metadata": {},
   "outputs": [
    {
     "name": "stdout",
     "output_type": "stream",
     "text": [
      "   SUBJECT_ID  HADM_ID   PROCEDURES_SHORT_TITLE\n",
      "0       62641   154460  Insert intercostal cath\n",
      "1       11143   101985  Insert intercostal cath\n",
      "2        9736   160259  Insert intercostal cath\n",
      "3        7546   147476  Insert intercostal cath\n",
      "4       65535   178280  Insert intercostal cath\n",
      "<class 'pandas.core.frame.DataFrame'>\n",
      "Int64Index: 246178 entries, 0 to 246177\n",
      "Data columns (total 3 columns):\n",
      "SUBJECT_ID                246178 non-null int64\n",
      "HADM_ID                   246178 non-null int64\n",
      "PROCEDURES_SHORT_TITLE    246178 non-null object\n",
      "dtypes: int64(2), object(1)\n",
      "memory usage: 7.5+ MB\n"
     ]
    }
   ],
   "source": [
    "procedures_new = pd.merge(procedures, dir_procedures, on = 'ICD9_CODE')\n",
    "procedures_new = procedures_new.drop('ICD9_CODE', axis = 1)\n",
    "procedures_new.columns = ['SUBJECT_ID', 'HADM_ID', 'PROCEDURES_SHORT_TITLE']\n",
    "print(procedures_new.head())\n",
    "procedures_new.info()"
   ]
  },
  {
   "cell_type": "code",
   "execution_count": 6,
   "metadata": {},
   "outputs": [
    {
     "name": "stdout",
     "output_type": "stream",
     "text": [
      "<class 'pandas.core.frame.DataFrame'>\n",
      "RangeIndex: 58976 entries, 0 to 58975\n",
      "Data columns (total 9 columns):\n",
      "SUBJECT_ID              58976 non-null object\n",
      "HADM_ID                 58976 non-null object\n",
      "ADMITTIME               58976 non-null object\n",
      "DISCHTIME               58976 non-null object\n",
      "ADMISSION_LOCATION      58976 non-null object\n",
      "EDREGTIME               58976 non-null object\n",
      "EDOUTTIME               58976 non-null object\n",
      "DIAGNOSIS               58976 non-null object\n",
      "HOSPITAL_EXPIRE_FLAG    58976 non-null object\n",
      "dtypes: object(9)\n",
      "memory usage: 4.0+ MB\n"
     ]
    }
   ],
   "source": [
    "admissions.fillna('NoData', inplace = True)\n",
    "admissions = admissions.applymap(str)\n",
    "#word_list = ['EMERGENCY ROOM ADMIT']\n",
    "#admissions = admissions[admissions['ADMISSION_LOCATION'].str.contains('|'.join(word_list))]\n",
    "admissions.info()"
   ]
  },
  {
   "cell_type": "code",
   "execution_count": 7,
   "metadata": {},
   "outputs": [
    {
     "name": "stdout",
     "output_type": "stream",
     "text": [
      "<class 'pandas.core.frame.DataFrame'>\n",
      "Int64Index: 351 entries, 19 to 58070\n",
      "Data columns (total 9 columns):\n",
      "SUBJECT_ID              351 non-null object\n",
      "HADM_ID                 351 non-null object\n",
      "ADMITTIME               351 non-null object\n",
      "DISCHTIME               351 non-null object\n",
      "ADMISSION_LOCATION      351 non-null object\n",
      "EDREGTIME               351 non-null object\n",
      "EDOUTTIME               351 non-null object\n",
      "DIAGNOSIS               351 non-null object\n",
      "HOSPITAL_EXPIRE_FLAG    351 non-null object\n",
      "dtypes: object(9)\n",
      "memory usage: 27.4+ KB\n"
     ]
    }
   ],
   "source": [
    "# Search through dataframe and return rows with specific values\n",
    "word_list = ['ACUTE MYOCARDIAL INFARCTION', 'ACUTE MI']\n",
    "STEMI_diagnosis = admissions[admissions['DIAGNOSIS'].str.contains('|'.join(word_list))]\n",
    "STEMI_diagnosis.info()\n",
    "    #351 STEMI (91 emergency room admit)"
   ]
  },
  {
   "cell_type": "code",
   "execution_count": 8,
   "metadata": {},
   "outputs": [
    {
     "name": "stdout",
     "output_type": "stream",
     "text": [
      "<class 'pandas.core.frame.DataFrame'>\n",
      "Index: 458 entries, 360 to 94329\n",
      "Data columns (total 9 columns):\n",
      "SUBJECT_ID              458 non-null object\n",
      "HADM_ID                 458 non-null object\n",
      "ADMITTIME               458 non-null object\n",
      "DISCHTIME               458 non-null object\n",
      "ADMISSION_LOCATION      458 non-null object\n",
      "EDREGTIME               458 non-null object\n",
      "EDOUTTIME               458 non-null object\n",
      "DIAGNOSIS               458 non-null object\n",
      "HOSPITAL_EXPIRE_FLAG    458 non-null object\n",
      "dtypes: object(9)\n",
      "memory usage: 35.8+ KB\n"
     ]
    }
   ],
   "source": [
    "word_list = ['STROKE', 'CVA', 'CEREBROVASCULAR ACCIDENT']\n",
    "STROKE_diagnosis = admissions[admissions['DIAGNOSIS'].str.contains('|'.join(word_list))]\n",
    "    #836 TOTAL STROKE\n",
    "word_list = ['TIA', 'TRANSIENT ISCHEMIC ATTACK']\n",
    "TIA_diagnosis = STROKE_diagnosis[STROKE_diagnosis['DIAGNOSIS'].str.contains('|'.join(word_list))]\n",
    "    #560 TOTAL TIA\n",
    "word_list = TIA_diagnosis['SUBJECT_ID'].tolist()\n",
    "STROKE_diagnosis = STROKE_diagnosis.set_index(STROKE_diagnosis['SUBJECT_ID'])\n",
    "ISCHEMIC_STROKE_diagnosis = STROKE_diagnosis.drop(word_list)\n",
    "    #458 TOTAL ISCHEMIC STROKE (309 emergency room admit)\n",
    "ISCHEMIC_STROKE_diagnosis.info()"
   ]
  },
  {
   "cell_type": "code",
   "execution_count": 9,
   "metadata": {},
   "outputs": [
    {
     "name": "stdout",
     "output_type": "stream",
     "text": [
      "<class 'pandas.core.frame.DataFrame'>\n",
      "Int64Index: 89 entries, 3746 to 58721\n",
      "Data columns (total 9 columns):\n",
      "SUBJECT_ID              89 non-null object\n",
      "HADM_ID                 89 non-null object\n",
      "ADMITTIME               89 non-null object\n",
      "DISCHTIME               89 non-null object\n",
      "ADMISSION_LOCATION      89 non-null object\n",
      "EDREGTIME               89 non-null object\n",
      "EDOUTTIME               89 non-null object\n",
      "DIAGNOSIS               89 non-null object\n",
      "HOSPITAL_EXPIRE_FLAG    89 non-null object\n",
      "dtypes: object(9)\n",
      "memory usage: 7.0+ KB\n"
     ]
    }
   ],
   "source": [
    "word_list = ['PULMONARY EMBOLISM']\n",
    "PULM_EMB_diagnosis = admissions[admissions['DIAGNOSIS'].str.contains('|'.join(word_list))]\n",
    "PULM_EMB_diagnosis.info()\n",
    "    #89 TOTAL PULMONARY EMBOLISM (45 emergency room admit)"
   ]
  },
  {
   "cell_type": "code",
   "execution_count": 10,
   "metadata": {},
   "outputs": [
    {
     "name": "stdout",
     "output_type": "stream",
     "text": [
      "<class 'pandas.core.frame.DataFrame'>\n",
      "Int64Index: 3364 entries, 1 to 58954\n",
      "Data columns (total 9 columns):\n",
      "SUBJECT_ID              3364 non-null object\n",
      "HADM_ID                 3364 non-null object\n",
      "ADMITTIME               3364 non-null object\n",
      "DISCHTIME               3364 non-null object\n",
      "ADMISSION_LOCATION      3364 non-null object\n",
      "EDREGTIME               3364 non-null object\n",
      "EDOUTTIME               3364 non-null object\n",
      "DIAGNOSIS               3364 non-null object\n",
      "HOSPITAL_EXPIRE_FLAG    3364 non-null object\n",
      "dtypes: object(9)\n",
      "memory usage: 262.8+ KB\n",
      "<class 'pandas.core.frame.DataFrame'>\n",
      "Int64Index: 5255 entries, 1 to 58954\n",
      "Data columns (total 9 columns):\n",
      "SUBJECT_ID              5255 non-null object\n",
      "HADM_ID                 5255 non-null object\n",
      "ADMITTIME               5255 non-null object\n",
      "DISCHTIME               5255 non-null object\n",
      "ADMISSION_LOCATION      5255 non-null object\n",
      "EDREGTIME               5255 non-null object\n",
      "EDOUTTIME               5255 non-null object\n",
      "DIAGNOSIS               5255 non-null object\n",
      "HOSPITAL_EXPIRE_FLAG    5255 non-null object\n",
      "dtypes: object(9)\n",
      "memory usage: 410.5+ KB\n"
     ]
    }
   ],
   "source": [
    "word_list = ['ARTERY DISEASE']\n",
    "ARTERY_D_diagnosis = admissions[admissions['DIAGNOSIS'].str.contains('|'.join(word_list))]\n",
    "ARTERY_D_diagnosis.info()\n",
    "    #3364 ARTERY DISEASE (62 emergency room admit)\n",
    "word_list = ['ARTERY DISEASE', 'CATH']\n",
    "ARTERY_CATH_diagnosis = admissions[admissions['DIAGNOSIS'].str.contains('|'.join(word_list))]\n",
    "ARTERY_CATH_diagnosis.info()\n",
    "    #5255 ARTERY DISEASE / CATH (169 emergency room admit)"
   ]
  },
  {
   "cell_type": "code",
   "execution_count": 11,
   "metadata": {},
   "outputs": [
    {
     "name": "stdout",
     "output_type": "stream",
     "text": [
      "<class 'pandas.core.frame.DataFrame'>\n",
      "Int64Index: 71 entries, 31 to 58716\n",
      "Data columns (total 9 columns):\n",
      "SUBJECT_ID              71 non-null object\n",
      "HADM_ID                 71 non-null object\n",
      "ADMITTIME               71 non-null object\n",
      "DISCHTIME               71 non-null object\n",
      "ADMISSION_LOCATION      71 non-null object\n",
      "EDREGTIME               71 non-null object\n",
      "EDOUTTIME               71 non-null object\n",
      "DIAGNOSIS               71 non-null object\n",
      "HOSPITAL_EXPIRE_FLAG    71 non-null object\n",
      "dtypes: object(9)\n",
      "memory usage: 5.5+ KB\n"
     ]
    }
   ],
   "source": [
    "word_list = ['VEIN THROMBOSIS', 'DVT']\n",
    "DVT_diagnosis = admissions[admissions['DIAGNOSIS'].str.contains('|'.join(word_list))]\n",
    "DVT_diagnosis.info()\n",
    "    #71 DVT (26 emergency room admit)"
   ]
  },
  {
   "cell_type": "code",
   "execution_count": null,
   "metadata": {
    "collapsed": true
   },
   "outputs": [],
   "source": []
  },
  {
   "cell_type": "code",
   "execution_count": null,
   "metadata": {
    "collapsed": true
   },
   "outputs": [],
   "source": []
  }
 ],
 "metadata": {
  "kernelspec": {
   "display_name": "Python 3",
   "language": "python",
   "name": "python3"
  },
  "language_info": {
   "codemirror_mode": {
    "name": "ipython",
    "version": 3
   },
   "file_extension": ".py",
   "mimetype": "text/x-python",
   "name": "python",
   "nbconvert_exporter": "python",
   "pygments_lexer": "ipython3",
   "version": "3.6.1"
  }
 },
 "nbformat": 4,
 "nbformat_minor": 2
}
