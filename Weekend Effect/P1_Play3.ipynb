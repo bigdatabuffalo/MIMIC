{
 "cells": [
  {
   "cell_type": "code",
   "execution_count": 1,
   "metadata": {
    "collapsed": true
   },
   "outputs": [],
   "source": [
    "# Common imports\n",
    "import numpy as np\n",
    "import numpy.random as rnd\n",
    "import os\n",
    "import pandas as pd\n",
    "\n",
    "# To make this notebook's output stable across runs\n",
    "rnd.seed(42)\n",
    "\n",
    "# To plot pretty figures\n",
    "%matplotlib inline\n",
    "import matplotlib\n",
    "import matplotlib.pyplot as plt\n",
    "plt.rcParams['axes.labelsize'] = 14\n",
    "plt.rcParams['xtick.labelsize'] = 12\n",
    "plt.rcParams['ytick.labelsize'] = 12\n",
    "\n",
    "# Show all columns when displaying dataframes\n",
    "pd.set_option('display.max_columns', None)"
   ]
  },
  {
   "cell_type": "code",
   "execution_count": 2,
   "metadata": {
    "collapsed": true
   },
   "outputs": [],
   "source": [
    "csv_path = 'MIMIC II/DIAGNOSES_ICD.csv'\n",
    "diagnoses = pd.read_csv(csv_path)\n",
    "\n",
    "csv_path = 'MIMIC II/D_ICD_DIAGNOSES.csv'\n",
    "dir_diagnoses = pd.read_csv(csv_path)\n",
    "\n",
    "csv_path = 'MIMIC II/PROCEDURES_ICD.csv'\n",
    "procedures = pd.read_csv(csv_path)\n",
    "\n",
    "csv_path = 'MIMIC II/D_ICD_PROCEDURES.csv'\n",
    "dir_procedures = pd.read_csv(csv_path)"
   ]
  },
  {
   "cell_type": "code",
   "execution_count": 3,
   "metadata": {
    "collapsed": true
   },
   "outputs": [],
   "source": [
    "diagnoses = diagnoses.drop(['ROW_ID', 'SEQ_NUM'], axis = 1)\n",
    "dir_diagnoses = dir_diagnoses.drop(['ROW_ID', 'LONG_TITLE'], axis = 1)\n",
    "procedures = procedures.drop(['ROW_ID', 'SEQ_NUM'], axis = 1)\n",
    "dir_procedures = dir_procedures.drop(['ROW_ID', 'LONG_TITLE'], axis = 1)"
   ]
  },
  {
   "cell_type": "code",
   "execution_count": 4,
   "metadata": {},
   "outputs": [
    {
     "name": "stdout",
     "output_type": "stream",
     "text": [
      "   SUBJECT_ID  HADM_ID   DIAGNOSES_SHORT_TITLE\n",
      "0         109   172335  Mal hyp kid w cr kid V\n",
      "1         109   173633  Mal hyp kid w cr kid V\n",
      "2         109   131345  Mal hyp kid w cr kid V\n",
      "3         109   131376  Mal hyp kid w cr kid V\n",
      "4         109   135923  Mal hyp kid w cr kid V\n",
      "<class 'pandas.core.frame.DataFrame'>\n",
      "Int64Index: 634709 entries, 0 to 634708\n",
      "Data columns (total 3 columns):\n",
      "SUBJECT_ID               634709 non-null int64\n",
      "HADM_ID                  634709 non-null int64\n",
      "DIAGNOSES_SHORT_TITLE    634709 non-null object\n",
      "dtypes: int64(2), object(1)\n",
      "memory usage: 19.4+ MB\n"
     ]
    }
   ],
   "source": [
    "diagnoses_new = pd.merge(diagnoses, dir_diagnoses, on = 'ICD9_CODE')\n",
    "diagnoses_new = diagnoses_new.drop('ICD9_CODE', axis = 1)\n",
    "diagnoses_new.columns = ['SUBJECT_ID', 'HADM_ID', 'DIAGNOSES_SHORT_TITLE']\n",
    "print(diagnoses_new.head())\n",
    "diagnoses_new.info()"
   ]
  },
  {
   "cell_type": "code",
   "execution_count": 5,
   "metadata": {},
   "outputs": [
    {
     "name": "stdout",
     "output_type": "stream",
     "text": [
      "   SUBJECT_ID  HADM_ID   PROCEDURES_SHORT_TITLE\n",
      "0       62641   154460  Insert intercostal cath\n",
      "1       11143   101985  Insert intercostal cath\n",
      "2        9736   160259  Insert intercostal cath\n",
      "3        7546   147476  Insert intercostal cath\n",
      "4       65535   178280  Insert intercostal cath\n",
      "<class 'pandas.core.frame.DataFrame'>\n",
      "Int64Index: 246178 entries, 0 to 246177\n",
      "Data columns (total 3 columns):\n",
      "SUBJECT_ID                246178 non-null int64\n",
      "HADM_ID                   246178 non-null int64\n",
      "PROCEDURES_SHORT_TITLE    246178 non-null object\n",
      "dtypes: int64(2), object(1)\n",
      "memory usage: 7.5+ MB\n"
     ]
    }
   ],
   "source": [
    "procedures_new = pd.merge(procedures, dir_procedures, on = 'ICD9_CODE')\n",
    "procedures_new = procedures_new.drop('ICD9_CODE', axis = 1)\n",
    "procedures_new.columns = ['SUBJECT_ID', 'HADM_ID', 'PROCEDURES_SHORT_TITLE']\n",
    "print(procedures_new.head())\n",
    "procedures_new.info()"
   ]
  },
  {
   "cell_type": "code",
   "execution_count": 6,
   "metadata": {},
   "outputs": [
    {
     "name": "stdout",
     "output_type": "stream",
     "text": [
      "   SUBJECT_ID  HADM_ID   PROCEDURES_SHORT_TITLE     DIAGNOSES_SHORT_TITLE\n",
      "0       62641   154460  Insert intercostal cath          Surg compl-heart\n",
      "1       62641   154460  Insert intercostal cath       Atrial fibrillation\n",
      "2       62641   154460  Insert intercostal cath   Iatrogenic pneumothorax\n",
      "3       62641   154460  Insert intercostal cath   Mal neo upper lobe lung\n",
      "4       62641   154460  Insert intercostal cath  Hx of bladder malignancy\n",
      "<class 'pandas.core.frame.DataFrame'>\n",
      "Int64Index: 3167189 entries, 0 to 3167188\n",
      "Data columns (total 4 columns):\n",
      "SUBJECT_ID                int64\n",
      "HADM_ID                   int64\n",
      "PROCEDURES_SHORT_TITLE    object\n",
      "DIAGNOSES_SHORT_TITLE     object\n",
      "dtypes: int64(2), object(2)\n",
      "memory usage: 120.8+ MB\n"
     ]
    }
   ],
   "source": [
    "diagnoses_and_procedures = pd.merge(procedures_new, diagnoses_new, on = ['SUBJECT_ID', 'HADM_ID'])\n",
    "print(diagnoses_and_procedures.head())\n",
    "diagnoses_and_procedures.info()"
   ]
  },
  {
   "cell_type": "code",
   "execution_count": 7,
   "metadata": {
    "collapsed": true
   },
   "outputs": [],
   "source": [
    "# Create a dictionary of diagnoses and the procedures they correspond to, convert into dataframe\n",
    "#mydict = {k: g[\"PROCEDURES_SHORT_TITLE\"].tolist() for k,g in diagnoses_and_procedures.groupby(\"DIAGNOSES_SHORT_TITLE\")}\n",
    "#diagnoses_vs_procedures = pd.DataFrame(dict([ (k,pd.Series(v)) for k,v in mydict.items() ]))\n",
    "#diagnoses_vs_procedures = diagnoses_vs_procedures.fillna('No_Data')\n",
    "#print(diagnoses_vs_procedures.info())\n",
    "#diagnoses_vs_procedures.head()"
   ]
  },
  {
   "cell_type": "code",
   "execution_count": 8,
   "metadata": {
    "collapsed": true
   },
   "outputs": [],
   "source": [
    "#I dont think anything I just did matters, but I'll leave it"
   ]
  },
  {
   "cell_type": "code",
   "execution_count": 9,
   "metadata": {},
   "outputs": [
    {
     "data": {
      "text/html": [
       "<div>\n",
       "<style>\n",
       "    .dataframe thead tr:only-child th {\n",
       "        text-align: right;\n",
       "    }\n",
       "\n",
       "    .dataframe thead th {\n",
       "        text-align: left;\n",
       "    }\n",
       "\n",
       "    .dataframe tbody tr th {\n",
       "        vertical-align: top;\n",
       "    }\n",
       "</style>\n",
       "<table border=\"1\" class=\"dataframe\">\n",
       "  <thead>\n",
       "    <tr style=\"text-align: right;\">\n",
       "      <th></th>\n",
       "      <th>SUBJECT_ID</th>\n",
       "      <th>HADM_ID</th>\n",
       "      <th>PROCEDURES_SHORT_TITLE</th>\n",
       "      <th>DIAGNOSES_SHORT_TITLE</th>\n",
       "    </tr>\n",
       "  </thead>\n",
       "  <tbody>\n",
       "    <tr>\n",
       "      <th>0</th>\n",
       "      <td>62641</td>\n",
       "      <td>154460</td>\n",
       "      <td>Insert intercostal cath</td>\n",
       "      <td>Surg compl-heart</td>\n",
       "    </tr>\n",
       "    <tr>\n",
       "      <th>1</th>\n",
       "      <td>62641</td>\n",
       "      <td>154460</td>\n",
       "      <td>Insert intercostal cath</td>\n",
       "      <td>Atrial fibrillation</td>\n",
       "    </tr>\n",
       "    <tr>\n",
       "      <th>2</th>\n",
       "      <td>62641</td>\n",
       "      <td>154460</td>\n",
       "      <td>Insert intercostal cath</td>\n",
       "      <td>Iatrogenic pneumothorax</td>\n",
       "    </tr>\n",
       "    <tr>\n",
       "      <th>3</th>\n",
       "      <td>62641</td>\n",
       "      <td>154460</td>\n",
       "      <td>Insert intercostal cath</td>\n",
       "      <td>Mal neo upper lobe lung</td>\n",
       "    </tr>\n",
       "    <tr>\n",
       "      <th>4</th>\n",
       "      <td>62641</td>\n",
       "      <td>154460</td>\n",
       "      <td>Insert intercostal cath</td>\n",
       "      <td>Hx of bladder malignancy</td>\n",
       "    </tr>\n",
       "  </tbody>\n",
       "</table>\n",
       "</div>"
      ],
      "text/plain": [
       "   SUBJECT_ID  HADM_ID   PROCEDURES_SHORT_TITLE     DIAGNOSES_SHORT_TITLE\n",
       "0       62641   154460  Insert intercostal cath          Surg compl-heart\n",
       "1       62641   154460  Insert intercostal cath       Atrial fibrillation\n",
       "2       62641   154460  Insert intercostal cath   Iatrogenic pneumothorax\n",
       "3       62641   154460  Insert intercostal cath   Mal neo upper lobe lung\n",
       "4       62641   154460  Insert intercostal cath  Hx of bladder malignancy"
      ]
     },
     "execution_count": 9,
     "metadata": {},
     "output_type": "execute_result"
    }
   ],
   "source": [
    "# Create a better dataframe for machine learning\n",
    "diagnoses_and_procedures.head()"
   ]
  },
  {
   "cell_type": "code",
   "execution_count": 10,
   "metadata": {},
   "outputs": [
    {
     "data": {
      "text/html": [
       "<div>\n",
       "<style>\n",
       "    .dataframe thead tr:only-child th {\n",
       "        text-align: right;\n",
       "    }\n",
       "\n",
       "    .dataframe thead th {\n",
       "        text-align: left;\n",
       "    }\n",
       "\n",
       "    .dataframe tbody tr th {\n",
       "        vertical-align: top;\n",
       "    }\n",
       "</style>\n",
       "<table border=\"1\" class=\"dataframe\">\n",
       "  <thead>\n",
       "    <tr style=\"text-align: right;\">\n",
       "      <th></th>\n",
       "      <th>PROCEDURES_SHORT_TITLE</th>\n",
       "      <th>DIAGNOSES_SHORT_TITLE</th>\n",
       "    </tr>\n",
       "  </thead>\n",
       "  <tbody>\n",
       "    <tr>\n",
       "      <th>0</th>\n",
       "      <td>Insert intercostal cath</td>\n",
       "      <td>Surg compl-heart</td>\n",
       "    </tr>\n",
       "    <tr>\n",
       "      <th>1</th>\n",
       "      <td>Insert intercostal cath</td>\n",
       "      <td>Atrial fibrillation</td>\n",
       "    </tr>\n",
       "    <tr>\n",
       "      <th>2</th>\n",
       "      <td>Insert intercostal cath</td>\n",
       "      <td>Iatrogenic pneumothorax</td>\n",
       "    </tr>\n",
       "    <tr>\n",
       "      <th>3</th>\n",
       "      <td>Insert intercostal cath</td>\n",
       "      <td>Mal neo upper lobe lung</td>\n",
       "    </tr>\n",
       "    <tr>\n",
       "      <th>4</th>\n",
       "      <td>Insert intercostal cath</td>\n",
       "      <td>Hx of bladder malignancy</td>\n",
       "    </tr>\n",
       "  </tbody>\n",
       "</table>\n",
       "</div>"
      ],
      "text/plain": [
       "    PROCEDURES_SHORT_TITLE     DIAGNOSES_SHORT_TITLE\n",
       "0  Insert intercostal cath          Surg compl-heart\n",
       "1  Insert intercostal cath       Atrial fibrillation\n",
       "2  Insert intercostal cath   Iatrogenic pneumothorax\n",
       "3  Insert intercostal cath   Mal neo upper lobe lung\n",
       "4  Insert intercostal cath  Hx of bladder malignancy"
      ]
     },
     "execution_count": 10,
     "metadata": {},
     "output_type": "execute_result"
    }
   ],
   "source": [
    "diagnoses_and_procedures = diagnoses_and_procedures.drop(['SUBJECT_ID', 'HADM_ID'], axis = 1)\n",
    "diagnoses_and_procedures.head()"
   ]
  },
  {
   "cell_type": "code",
   "execution_count": 11,
   "metadata": {
    "collapsed": true
   },
   "outputs": [],
   "source": [
    "diagnoses = diagnoses_and_procedures.drop('PROCEDURES_SHORT_TITLE', axis = 1)\n",
    "procedures = diagnoses_and_procedures.drop('DIAGNOSES_SHORT_TITLE', axis = 1)"
   ]
  },
  {
   "cell_type": "code",
   "execution_count": null,
   "metadata": {
    "collapsed": true
   },
   "outputs": [],
   "source": [
    "# Encode into 1hot\n",
    "running_total_columns = []\n",
    "diagnoses_enc = diagnoses.copy()\n",
    "    #create a clean copy of diagnoses to encode\n",
    "\n",
    "diagnoses_1Hot = pd.get_dummies(diagnoses_enc['DIAGNOSES_SHORT_TITLE'])\n",
    "\n",
    "print(procedures_1Hot.info())\n",
    "diagnoses_1Hot.head()"
   ]
  },
  {
   "cell_type": "code",
   "execution_count": null,
   "metadata": {
    "collapsed": true
   },
   "outputs": [],
   "source": [
    "# Encode into 1hot\n",
    "running_total_columns = []\n",
    "procedures_enc = procedures.copy()\n",
    "    #create a clean copy of diagnoses to encode\n",
    "\n",
    "procedures_1Hot = pd.get_dummies(procedures_enc['PROCEDURES_SHORT_TITLE'])\n",
    "\n",
    "print(procedures_1Hot.info())\n",
    "procedures_1Hot.head()"
   ]
  },
  {
   "cell_type": "code",
   "execution_count": null,
   "metadata": {
    "collapsed": true
   },
   "outputs": [],
   "source": []
  },
  {
   "cell_type": "code",
   "execution_count": null,
   "metadata": {
    "collapsed": true
   },
   "outputs": [],
   "source": []
  },
  {
   "cell_type": "code",
   "execution_count": null,
   "metadata": {
    "collapsed": true
   },
   "outputs": [],
   "source": []
  },
  {
   "cell_type": "code",
   "execution_count": null,
   "metadata": {
    "collapsed": true
   },
   "outputs": [],
   "source": []
  }
 ],
 "metadata": {
  "kernelspec": {
   "display_name": "Python 3",
   "language": "python",
   "name": "python3"
  },
  "language_info": {
   "codemirror_mode": {
    "name": "ipython",
    "version": 3
   },
   "file_extension": ".py",
   "mimetype": "text/x-python",
   "name": "python",
   "nbconvert_exporter": "python",
   "pygments_lexer": "ipython3",
   "version": "3.6.1"
  }
 },
 "nbformat": 4,
 "nbformat_minor": 2
}
