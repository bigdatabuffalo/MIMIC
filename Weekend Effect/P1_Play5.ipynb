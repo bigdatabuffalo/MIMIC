{
 "cells": [
  {
   "cell_type": "code",
   "execution_count": 1,
   "metadata": {
    "collapsed": true
   },
   "outputs": [],
   "source": [
    "%matplotlib inline"
   ]
  },
  {
   "cell_type": "markdown",
   "metadata": {},
   "source": [
    "\n",
    "# Univariate Feature Selection\n",
    "\n",
    "\n",
    "An example showing univariate feature selection.\n",
    "\n",
    "Noisy (non informative) features are added to the iris data and\n",
    "univariate feature selection is applied. For each feature, we plot the\n",
    "p-values for the univariate feature selection and the corresponding\n",
    "weights of an SVM. We can see that univariate feature selection\n",
    "selects the informative features and that these have larger SVM weights.\n",
    "\n",
    "In the total set of features, only the 4 first ones are significant. We\n",
    "can see that they have the highest score with univariate feature\n",
    "selection. The SVM assigns a large weight to one of these features, but also\n",
    "Selects many of the non-informative features.\n",
    "Applying univariate feature selection before the SVM\n",
    "increases the SVM weight attributed to the significant features, and will\n",
    "thus improve classification.\n"
   ]
  },
  {
   "cell_type": "code",
   "execution_count": 2,
   "metadata": {},
   "outputs": [
    {
     "name": "stdout",
     "output_type": "stream",
     "text": [
      "Automatically created module for IPython interactive environment\n"
     ]
    }
   ],
   "source": [
    "print(__doc__)\n",
    "\n",
    "# Common imports\n",
    "import numpy as np\n",
    "import numpy.random as rnd\n",
    "import os\n",
    "import pandas as pd\n",
    "\n",
    "# To make this notebook's output stable across runs\n",
    "rnd.seed(42)\n",
    "\n",
    "# To plot pretty figures\n",
    "%matplotlib inline\n",
    "import matplotlib\n",
    "import matplotlib.pyplot as plt\n",
    "plt.rcParams['axes.labelsize'] = 14\n",
    "plt.rcParams['xtick.labelsize'] = 12\n",
    "plt.rcParams['ytick.labelsize'] = 12\n",
    "\n",
    "# Show all columns when displaying dataframes\n",
    "pd.set_option('display.max_columns', None)\n",
    "\n",
    "from sklearn import datasets, svm\n",
    "from sklearn.feature_selection import SelectPercentile, f_classif"
   ]
  },
  {
   "cell_type": "markdown",
   "metadata": {},
   "source": [
    "import some data to play with\n"
   ]
  },
  {
   "cell_type": "code",
   "execution_count": 3,
   "metadata": {
    "collapsed": true
   },
   "outputs": [],
   "source": [
    "csv_path = 'MIMIC II/DIAGNOSES_ICD.csv'\n",
    "diagnoses = pd.read_csv(csv_path) #done\n",
    "\n",
    "csv_path = 'MIMIC II/D_ICD_DIAGNOSES.csv'\n",
    "dir_diagnoses = pd.read_csv(csv_path) #done\n",
    "\n",
    "csv_path = 'MIMIC II/PATIENTS.csv'\n",
    "patients = pd.read_csv(csv_path) #done\n",
    "\n",
    "csv_path = 'MIMIC II/ADMISSIONS.csv'\n",
    "admissions = pd.read_csv(csv_path)\n",
    "admissions.fillna('NoData', inplace = True)\n",
    "admissions = admissions.applymap(str) #done\n",
    "\n",
    "csv_path = 'MIMIC II/DRGCODES.csv'\n",
    "drugcodes = pd.read_csv(csv_path)\n"
   ]
  },
  {
   "cell_type": "code",
   "execution_count": 4,
   "metadata": {
    "collapsed": true
   },
   "outputs": [],
   "source": [
    "diagnoses = diagnoses.drop(['ROW_ID', 'SEQ_NUM'], axis = 1)\n",
    "drugcodes = drugcodes.drop(['ROW_ID', 'DRG_TYPE', 'DRG_SEVERITY', 'DRG_MORTALITY', 'DESCRIPTION'], axis = 1)\n",
    "patients = patients.drop(['ROW_ID', 'DOB', 'DOD', 'DOD_HOSP', 'DOD_SSN'], axis = 1)\n",
    "dir_diagnoses = dir_diagnoses.drop(['ROW_ID', 'LONG_TITLE'], axis = 1)\n",
    "admissions = admissions.drop(['ROW_ID', 'DISCHTIME', 'EDREGTIME', 'EDOUTTIME', 'HOSPITAL_EXPIRE_FLAG', 'DEATHTIME', 'ADMISSION_TYPE', 'DISCHARGE_LOCATION', 'INSURANCE', 'LANGUAGE', 'RELIGION', 'MARITAL_STATUS', 'ETHNICITY', 'HAS_CHARTEVENTS_DATA'], axis = 1)"
   ]
  },
  {
   "cell_type": "code",
   "execution_count": 5,
   "metadata": {},
   "outputs": [
    {
     "name": "stdout",
     "output_type": "stream",
     "text": [
      "   SUBJECT_ID  HADM_ID   DIAGNOSES_SHORT_TITLE\n",
      "0         109   172335  Mal hyp kid w cr kid V\n",
      "1         109   173633  Mal hyp kid w cr kid V\n",
      "2         109   131345  Mal hyp kid w cr kid V\n",
      "3         109   131376  Mal hyp kid w cr kid V\n",
      "4         109   135923  Mal hyp kid w cr kid V\n",
      "<class 'pandas.core.frame.DataFrame'>\n",
      "Int64Index: 634709 entries, 0 to 634708\n",
      "Data columns (total 3 columns):\n",
      "SUBJECT_ID               634709 non-null int64\n",
      "HADM_ID                  634709 non-null int64\n",
      "DIAGNOSES_SHORT_TITLE    634709 non-null object\n",
      "dtypes: int64(2), object(1)\n",
      "memory usage: 19.4+ MB\n"
     ]
    }
   ],
   "source": [
    "diagnoses_new = pd.merge(diagnoses, dir_diagnoses, on = 'ICD9_CODE')\n",
    "diagnoses_new = diagnoses_new.drop('ICD9_CODE', axis = 1)\n",
    "diagnoses_new.columns = ['SUBJECT_ID', 'HADM_ID', 'DIAGNOSES_SHORT_TITLE']\n",
    "print(diagnoses_new.head())\n",
    "diagnoses_new.info()"
   ]
  },
  {
   "cell_type": "code",
   "execution_count": 6,
   "metadata": {
    "collapsed": true
   },
   "outputs": [],
   "source": [
    "word_list = ['EMERGENCY ROOM ADMIT']\n",
    "admissions = admissions[admissions['ADMISSION_LOCATION'].str.contains('|'.join(word_list))]\n",
    "\n",
    "word_list = ['STROKE', 'CVA', 'CEREBROVASCULAR ACCIDENT']\n",
    "STROKE_diagnosis = admissions[admissions['DIAGNOSIS'].str.contains('|'.join(word_list))]\n",
    "    #836 TOTAL STROKE\n",
    "word_list = ['TIA', 'TRANSIENT ISCHEMIC ATTACK']\n",
    "TIA_diagnosis = STROKE_diagnosis[STROKE_diagnosis['DIAGNOSIS'].str.contains('|'.join(word_list))]\n",
    "    #560 TOTAL TIA\n",
    "word_list = TIA_diagnosis['SUBJECT_ID'].tolist()\n",
    "STROKE_diagnosis = STROKE_diagnosis.set_index(STROKE_diagnosis['SUBJECT_ID'])\n",
    "ISCHEMIC_STROKE_diagnosis = STROKE_diagnosis.drop(word_list)\n",
    "    #458 TOTAL ISCHEMIC STROKE (309 emergency room admit)\n",
    "ISCHEMIC_STROKE_diagnosis = ISCHEMIC_STROKE_diagnosis.drop(['ADMITTIME', 'ADMISSION_LOCATION'], axis = 1)"
   ]
  },
  {
   "cell_type": "code",
   "execution_count": 7,
   "metadata": {
    "collapsed": true
   },
   "outputs": [],
   "source": [
    "admissions = admissions.drop(['DIAGNOSIS', 'ADMISSION_LOCATION'], axis = 1)"
   ]
  },
  {
   "cell_type": "code",
   "execution_count": 8,
   "metadata": {},
   "outputs": [
    {
     "data": {
      "text/html": [
       "<div>\n",
       "<style>\n",
       "    .dataframe thead tr:only-child th {\n",
       "        text-align: right;\n",
       "    }\n",
       "\n",
       "    .dataframe thead th {\n",
       "        text-align: left;\n",
       "    }\n",
       "\n",
       "    .dataframe tbody tr th {\n",
       "        vertical-align: top;\n",
       "    }\n",
       "</style>\n",
       "<table border=\"1\" class=\"dataframe\">\n",
       "  <thead>\n",
       "    <tr style=\"text-align: right;\">\n",
       "      <th></th>\n",
       "      <th>SUBJECT_ID</th>\n",
       "      <th>HADM_ID</th>\n",
       "      <th>ADM_DAY</th>\n",
       "    </tr>\n",
       "  </thead>\n",
       "  <tbody>\n",
       "    <tr>\n",
       "      <th>0</th>\n",
       "      <td>22</td>\n",
       "      <td>165315</td>\n",
       "      <td>5.0</td>\n",
       "    </tr>\n",
       "    <tr>\n",
       "      <th>4</th>\n",
       "      <td>25</td>\n",
       "      <td>129635</td>\n",
       "      <td>3.0</td>\n",
       "    </tr>\n",
       "    <tr>\n",
       "      <th>11</th>\n",
       "      <td>33</td>\n",
       "      <td>176176</td>\n",
       "      <td>5.0</td>\n",
       "    </tr>\n",
       "    <tr>\n",
       "      <th>16</th>\n",
       "      <td>36</td>\n",
       "      <td>122659</td>\n",
       "      <td>3.0</td>\n",
       "    </tr>\n",
       "    <tr>\n",
       "      <th>18</th>\n",
       "      <td>37</td>\n",
       "      <td>188670</td>\n",
       "      <td>6.0</td>\n",
       "    </tr>\n",
       "  </tbody>\n",
       "</table>\n",
       "</div>"
      ],
      "text/plain": [
       "   SUBJECT_ID HADM_ID  ADM_DAY\n",
       "0          22  165315      5.0\n",
       "4          25  129635      3.0\n",
       "11         33  176176      5.0\n",
       "16         36  122659      3.0\n",
       "18         37  188670      6.0"
      ]
     },
     "execution_count": 8,
     "metadata": {},
     "output_type": "execute_result"
    }
   ],
   "source": [
    "#lets get the dates into weekdays\n",
    "import datetime\n",
    "\n",
    "admTime = admissions['ADMITTIME']\n",
    "\n",
    "def get_day_of_week (value):\n",
    "    date = []\n",
    "    int_date = []\n",
    "    day_of_week = []\n",
    "    \n",
    "    #replace dashes and colons with spaces to make breaking the string up easier\n",
    "    value = value.replace('-', ' ')\n",
    "    value = value.replace(':', ' ')\n",
    "    \n",
    "    #split into a string outputting [year, month, day, hour, minutes, seconds]\n",
    "    date = value.split(' ')\n",
    "    \n",
    "    #delete hour/min/sec, convert to integers\n",
    "    del date[3:6]\n",
    "    int_date = [int(i) for i in date]\n",
    "    \n",
    "    #get day of week and return it\n",
    "    day_of_week = datetime.date(int_date[0], int_date[1], int_date[2]).weekday()\n",
    "    \n",
    "    return day_of_week\n",
    "\n",
    "\n",
    "admTime_weekday = [get_day_of_week(value) for value in admTime]\n",
    "\n",
    "weekday_data = pd.DataFrame({'ADM_DAY' : admTime_weekday})\n",
    "admissions = pd.concat([admissions, weekday_data], axis=1)\n",
    "admissions = admissions.drop('ADMITTIME', axis = 1)\n",
    "admissions = admissions.dropna()\n",
    "admissions.head()"
   ]
  },
  {
   "cell_type": "code",
   "execution_count": 9,
   "metadata": {},
   "outputs": [
    {
     "data": {
      "text/html": [
       "<div>\n",
       "<style>\n",
       "    .dataframe thead tr:only-child th {\n",
       "        text-align: right;\n",
       "    }\n",
       "\n",
       "    .dataframe thead th {\n",
       "        text-align: left;\n",
       "    }\n",
       "\n",
       "    .dataframe tbody tr th {\n",
       "        vertical-align: top;\n",
       "    }\n",
       "</style>\n",
       "<table border=\"1\" class=\"dataframe\">\n",
       "  <thead>\n",
       "    <tr style=\"text-align: right;\">\n",
       "      <th></th>\n",
       "      <th>SUBJECT_ID</th>\n",
       "      <th>GENDER</th>\n",
       "      <th>EXPIRE_FLAG</th>\n",
       "    </tr>\n",
       "  </thead>\n",
       "  <tbody>\n",
       "    <tr>\n",
       "      <th>0</th>\n",
       "      <td>249</td>\n",
       "      <td>F</td>\n",
       "      <td>0</td>\n",
       "    </tr>\n",
       "    <tr>\n",
       "      <th>1</th>\n",
       "      <td>250</td>\n",
       "      <td>F</td>\n",
       "      <td>1</td>\n",
       "    </tr>\n",
       "    <tr>\n",
       "      <th>2</th>\n",
       "      <td>251</td>\n",
       "      <td>M</td>\n",
       "      <td>0</td>\n",
       "    </tr>\n",
       "    <tr>\n",
       "      <th>3</th>\n",
       "      <td>252</td>\n",
       "      <td>M</td>\n",
       "      <td>0</td>\n",
       "    </tr>\n",
       "    <tr>\n",
       "      <th>4</th>\n",
       "      <td>253</td>\n",
       "      <td>F</td>\n",
       "      <td>0</td>\n",
       "    </tr>\n",
       "  </tbody>\n",
       "</table>\n",
       "</div>"
      ],
      "text/plain": [
       "   SUBJECT_ID GENDER  EXPIRE_FLAG\n",
       "0         249      F            0\n",
       "1         250      F            1\n",
       "2         251      M            0\n",
       "3         252      M            0\n",
       "4         253      F            0"
      ]
     },
     "execution_count": 9,
     "metadata": {},
     "output_type": "execute_result"
    }
   ],
   "source": [
    "patients.head()"
   ]
  },
  {
   "cell_type": "code",
   "execution_count": 10,
   "metadata": {},
   "outputs": [
    {
     "data": {
      "text/html": [
       "<div>\n",
       "<style>\n",
       "    .dataframe thead tr:only-child th {\n",
       "        text-align: right;\n",
       "    }\n",
       "\n",
       "    .dataframe thead th {\n",
       "        text-align: left;\n",
       "    }\n",
       "\n",
       "    .dataframe tbody tr th {\n",
       "        vertical-align: top;\n",
       "    }\n",
       "</style>\n",
       "<table border=\"1\" class=\"dataframe\">\n",
       "  <thead>\n",
       "    <tr style=\"text-align: right;\">\n",
       "      <th></th>\n",
       "      <th>SUBJECT_ID</th>\n",
       "      <th>HADM_ID</th>\n",
       "      <th>DRG_CODE</th>\n",
       "    </tr>\n",
       "  </thead>\n",
       "  <tbody>\n",
       "    <tr>\n",
       "      <th>0</th>\n",
       "      <td>2491</td>\n",
       "      <td>144486</td>\n",
       "      <td>28</td>\n",
       "    </tr>\n",
       "    <tr>\n",
       "      <th>1</th>\n",
       "      <td>24958</td>\n",
       "      <td>162910</td>\n",
       "      <td>110</td>\n",
       "    </tr>\n",
       "    <tr>\n",
       "      <th>2</th>\n",
       "      <td>18325</td>\n",
       "      <td>153751</td>\n",
       "      <td>390</td>\n",
       "    </tr>\n",
       "    <tr>\n",
       "      <th>3</th>\n",
       "      <td>17887</td>\n",
       "      <td>182692</td>\n",
       "      <td>14</td>\n",
       "    </tr>\n",
       "    <tr>\n",
       "      <th>4</th>\n",
       "      <td>11113</td>\n",
       "      <td>157980</td>\n",
       "      <td>390</td>\n",
       "    </tr>\n",
       "  </tbody>\n",
       "</table>\n",
       "</div>"
      ],
      "text/plain": [
       "   SUBJECT_ID  HADM_ID  DRG_CODE\n",
       "0        2491   144486        28\n",
       "1       24958   162910       110\n",
       "2       18325   153751       390\n",
       "3       17887   182692        14\n",
       "4       11113   157980       390"
      ]
     },
     "execution_count": 10,
     "metadata": {},
     "output_type": "execute_result"
    }
   ],
   "source": [
    "drugcodes.head()"
   ]
  },
  {
   "cell_type": "code",
   "execution_count": 11,
   "metadata": {},
   "outputs": [
    {
     "name": "stdout",
     "output_type": "stream",
     "text": [
      "<class 'pandas.core.frame.DataFrame'>\n",
      "Index: 309 entries, 360 to 91733\n",
      "Data columns (total 3 columns):\n",
      "SUBJECT_ID    309 non-null object\n",
      "HADM_ID       309 non-null object\n",
      "DIAGNOSIS     309 non-null object\n",
      "dtypes: object(3)\n",
      "memory usage: 9.7+ KB\n"
     ]
    }
   ],
   "source": [
    "ISCHEMIC_STROKE_diagnosis.info()"
   ]
  },
  {
   "cell_type": "code",
   "execution_count": 12,
   "metadata": {
    "collapsed": true
   },
   "outputs": [],
   "source": [
    "admissions = admissions.applymap(str)\n",
    "patients = patients.applymap(str)\n",
    "drugcodes = drugcodes.applymap(str)\n",
    "ISCHEMIC_STROKE_diagnosis = ISCHEMIC_STROKE_diagnosis.applymap(str)"
   ]
  },
  {
   "cell_type": "code",
   "execution_count": 13,
   "metadata": {},
   "outputs": [
    {
     "data": {
      "text/html": [
       "<div>\n",
       "<style>\n",
       "    .dataframe thead tr:only-child th {\n",
       "        text-align: right;\n",
       "    }\n",
       "\n",
       "    .dataframe thead th {\n",
       "        text-align: left;\n",
       "    }\n",
       "\n",
       "    .dataframe tbody tr th {\n",
       "        vertical-align: top;\n",
       "    }\n",
       "</style>\n",
       "<table border=\"1\" class=\"dataframe\">\n",
       "  <thead>\n",
       "    <tr style=\"text-align: right;\">\n",
       "      <th></th>\n",
       "      <th>SUBJECT_ID</th>\n",
       "      <th>HADM_ID</th>\n",
       "      <th>ADM_DAY</th>\n",
       "      <th>GENDER</th>\n",
       "      <th>EXPIRE_FLAG</th>\n",
       "    </tr>\n",
       "  </thead>\n",
       "  <tbody>\n",
       "    <tr>\n",
       "      <th>0</th>\n",
       "      <td>22</td>\n",
       "      <td>165315</td>\n",
       "      <td>5.0</td>\n",
       "      <td>F</td>\n",
       "      <td>0</td>\n",
       "    </tr>\n",
       "    <tr>\n",
       "      <th>1</th>\n",
       "      <td>25</td>\n",
       "      <td>129635</td>\n",
       "      <td>3.0</td>\n",
       "      <td>M</td>\n",
       "      <td>0</td>\n",
       "    </tr>\n",
       "    <tr>\n",
       "      <th>2</th>\n",
       "      <td>33</td>\n",
       "      <td>176176</td>\n",
       "      <td>5.0</td>\n",
       "      <td>M</td>\n",
       "      <td>0</td>\n",
       "    </tr>\n",
       "    <tr>\n",
       "      <th>3</th>\n",
       "      <td>36</td>\n",
       "      <td>122659</td>\n",
       "      <td>3.0</td>\n",
       "      <td>M</td>\n",
       "      <td>0</td>\n",
       "    </tr>\n",
       "    <tr>\n",
       "      <th>4</th>\n",
       "      <td>37</td>\n",
       "      <td>188670</td>\n",
       "      <td>6.0</td>\n",
       "      <td>M</td>\n",
       "      <td>1</td>\n",
       "    </tr>\n",
       "  </tbody>\n",
       "</table>\n",
       "</div>"
      ],
      "text/plain": [
       "  SUBJECT_ID HADM_ID ADM_DAY GENDER EXPIRE_FLAG\n",
       "0         22  165315     5.0      F           0\n",
       "1         25  129635     3.0      M           0\n",
       "2         33  176176     5.0      M           0\n",
       "3         36  122659     3.0      M           0\n",
       "4         37  188670     6.0      M           1"
      ]
     },
     "execution_count": 13,
     "metadata": {},
     "output_type": "execute_result"
    }
   ],
   "source": [
    "df1 = pd.merge(admissions, patients, on = 'SUBJECT_ID')\n",
    "df1.head()"
   ]
  },
  {
   "cell_type": "code",
   "execution_count": 14,
   "metadata": {},
   "outputs": [
    {
     "data": {
      "text/html": [
       "<div>\n",
       "<style>\n",
       "    .dataframe thead tr:only-child th {\n",
       "        text-align: right;\n",
       "    }\n",
       "\n",
       "    .dataframe thead th {\n",
       "        text-align: left;\n",
       "    }\n",
       "\n",
       "    .dataframe tbody tr th {\n",
       "        vertical-align: top;\n",
       "    }\n",
       "</style>\n",
       "<table border=\"1\" class=\"dataframe\">\n",
       "  <thead>\n",
       "    <tr style=\"text-align: right;\">\n",
       "      <th></th>\n",
       "      <th>SUBJECT_ID</th>\n",
       "      <th>HADM_ID</th>\n",
       "      <th>ADM_DAY</th>\n",
       "      <th>GENDER</th>\n",
       "      <th>EXPIRE_FLAG</th>\n",
       "      <th>DRG_CODE</th>\n",
       "    </tr>\n",
       "  </thead>\n",
       "  <tbody>\n",
       "    <tr>\n",
       "      <th>0</th>\n",
       "      <td>22</td>\n",
       "      <td>165315</td>\n",
       "      <td>5.0</td>\n",
       "      <td>F</td>\n",
       "      <td>0</td>\n",
       "      <td>450</td>\n",
       "    </tr>\n",
       "    <tr>\n",
       "      <th>1</th>\n",
       "      <td>25</td>\n",
       "      <td>129635</td>\n",
       "      <td>3.0</td>\n",
       "      <td>M</td>\n",
       "      <td>0</td>\n",
       "      <td>526</td>\n",
       "    </tr>\n",
       "    <tr>\n",
       "      <th>2</th>\n",
       "      <td>33</td>\n",
       "      <td>176176</td>\n",
       "      <td>5.0</td>\n",
       "      <td>M</td>\n",
       "      <td>0</td>\n",
       "      <td>416</td>\n",
       "    </tr>\n",
       "    <tr>\n",
       "      <th>3</th>\n",
       "      <td>36</td>\n",
       "      <td>122659</td>\n",
       "      <td>3.0</td>\n",
       "      <td>M</td>\n",
       "      <td>0</td>\n",
       "      <td>439</td>\n",
       "    </tr>\n",
       "    <tr>\n",
       "      <th>4</th>\n",
       "      <td>36</td>\n",
       "      <td>122659</td>\n",
       "      <td>3.0</td>\n",
       "      <td>M</td>\n",
       "      <td>0</td>\n",
       "      <td>7912</td>\n",
       "    </tr>\n",
       "  </tbody>\n",
       "</table>\n",
       "</div>"
      ],
      "text/plain": [
       "  SUBJECT_ID HADM_ID ADM_DAY GENDER EXPIRE_FLAG DRG_CODE\n",
       "0         22  165315     5.0      F           0      450\n",
       "1         25  129635     3.0      M           0      526\n",
       "2         33  176176     5.0      M           0      416\n",
       "3         36  122659     3.0      M           0      439\n",
       "4         36  122659     3.0      M           0     7912"
      ]
     },
     "execution_count": 14,
     "metadata": {},
     "output_type": "execute_result"
    }
   ],
   "source": [
    "df2 = pd.merge(df1, drugcodes, on = ['SUBJECT_ID', 'HADM_ID'])\n",
    "df2.head()"
   ]
  },
  {
   "cell_type": "code",
   "execution_count": 15,
   "metadata": {},
   "outputs": [
    {
     "name": "stdout",
     "output_type": "stream",
     "text": [
      "<class 'pandas.core.frame.DataFrame'>\n",
      "Int64Index: 195 entries, 0 to 194\n",
      "Data columns (total 7 columns):\n",
      "SUBJECT_ID     195 non-null object\n",
      "HADM_ID        195 non-null object\n",
      "ADM_DAY        195 non-null object\n",
      "GENDER         195 non-null object\n",
      "EXPIRE_FLAG    195 non-null object\n",
      "DRG_CODE       195 non-null object\n",
      "DIAGNOSIS      195 non-null object\n",
      "dtypes: object(7)\n",
      "memory usage: 12.2+ KB\n"
     ]
    }
   ],
   "source": [
    "df3 = pd.merge(df2, ISCHEMIC_STROKE_diagnosis, on = ['SUBJECT_ID', 'HADM_ID'])\n",
    "df3.info()"
   ]
  },
  {
   "cell_type": "code",
   "execution_count": 16,
   "metadata": {
    "collapsed": true
   },
   "outputs": [],
   "source": [
    "Xdf = df3[['DIAGNOSIS', 'ADM_DAY', 'GENDER', 'DRG_CODE']].copy()\n",
    "Xdf = pd.get_dummies(Xdf)\n",
    "X = Xdf.as_matrix()\n",
    "\n",
    "y = df3[['EXPIRE_FLAG']].copy()\n",
    "y = y.as_matrix()"
   ]
  },
  {
   "cell_type": "code",
   "execution_count": 17,
   "metadata": {},
   "outputs": [
    {
     "data": {
      "text/plain": [
       "[('DIAGNOSIS_? CVA', 0),\n",
       " ('DIAGNOSIS_ACUTE CVA', 1),\n",
       " ('DIAGNOSIS_ACUTE CVA;TELEMETRY', 2),\n",
       " ('DIAGNOSIS_ACUTE LEFT CEREBRAL VASSCULAR ACCIDENT ISCHEMIC STROKE', 3),\n",
       " ('DIAGNOSIS_ACUTE STROKE', 4),\n",
       " ('DIAGNOSIS_ACUTE STROKE;TELEMETRY', 5),\n",
       " ('DIAGNOSIS_BRAIN STEM CVA', 6),\n",
       " ('DIAGNOSIS_CEREBELLAR STROKE', 7),\n",
       " ('DIAGNOSIS_CEREBROVASCULAR ACCIDENT', 8),\n",
       " ('DIAGNOSIS_CEREBROVASCULAR ACCIDENT-RT HEMIPARESIS', 9),\n",
       " ('DIAGNOSIS_CEREBROVASCULAR ACCIDENT;FEV', 10),\n",
       " ('DIAGNOSIS_CEREBROVASCULAR ACCIDENT;SUBDURAL BLEED;TELEMETRY', 11),\n",
       " ('DIAGNOSIS_CEREBROVASCULAR ACCIDENT;TELEMETRY', 12),\n",
       " ('DIAGNOSIS_CVA', 13),\n",
       " ('DIAGNOSIS_CVA VS.SEIZURES', 14),\n",
       " ('DIAGNOSIS_CVA;HYPOTENSION', 15),\n",
       " ('DIAGNOSIS_CVA;TELEMETRY', 16),\n",
       " ('DIAGNOSIS_DIABETIC KETOACIDOSIS;CVA;FEVER,ETIOLOGY UNKNOWN', 17),\n",
       " ('DIAGNOSIS_HEMMO-HAGIC STROKE', 18),\n",
       " ('DIAGNOSIS_HEMORRAGIC STROKE;TELEMETRY', 19),\n",
       " ('DIAGNOSIS_HEMORRHAGE STROKE', 20),\n",
       " ('DIAGNOSIS_HEMORRHAGIC CVA', 21),\n",
       " ('DIAGNOSIS_HEMORRHAGIC CVA;TELEMETRY', 22),\n",
       " ('DIAGNOSIS_HEMORRHAGIC STROKE', 23),\n",
       " ('DIAGNOSIS_ISCHEMIC STROKE', 24),\n",
       " ('DIAGNOSIS_LEFT CVA', 25),\n",
       " ('DIAGNOSIS_LEFT SIDED CVA', 26),\n",
       " ('DIAGNOSIS_LT SIDED STROKE', 27),\n",
       " ('DIAGNOSIS_MCA STROKE', 28),\n",
       " ('DIAGNOSIS_MCA STROKE;COMP SYNDROME;RHABDOMYOLISIS', 29),\n",
       " ('DIAGNOSIS_MYOCARDIAL INFARCTION;STROKE', 30),\n",
       " ('DIAGNOSIS_NEW CVA', 31),\n",
       " ('DIAGNOSIS_R/O CEREBROVASCULAR ACCIDENT', 32),\n",
       " ('DIAGNOSIS_R/O CVA', 33),\n",
       " ('DIAGNOSIS_R/O CVA;SYNCOPE', 34),\n",
       " ('DIAGNOSIS_R/O STROKE', 35),\n",
       " ('DIAGNOSIS_RIGHT ANTERIOR CEREBRAL ARTERY STROKE', 36),\n",
       " ('DIAGNOSIS_RIGHT FRONTAL LOBE STROKE', 37),\n",
       " ('DIAGNOSIS_RIGHT MCA STROKE', 38),\n",
       " ('DIAGNOSIS_RIGHT MCA STROKE;TELEMETRY', 39),\n",
       " ('DIAGNOSIS_RIGHT MIDDLE CEREBRAL ARTERY STROKE', 40),\n",
       " ('DIAGNOSIS_RIGHT POST CIRCULATING ARTERY STROKE', 41),\n",
       " ('DIAGNOSIS_RULE OUT CEREBROVASCULAR ACCIDENT', 42),\n",
       " ('DIAGNOSIS_RULE OUT CEREBROVASCULAR ACCIDENT;TELEMETRY', 43),\n",
       " ('DIAGNOSIS_RULE-OUT MYOCARDIAL INFARCTION;TELEMETRY;?CVA', 44),\n",
       " ('DIAGNOSIS_RULE-OUT MYOCARDIAL INFARCTION;TELEMETRY;CVA', 45),\n",
       " ('DIAGNOSIS_SEPSIS,STROKE', 46),\n",
       " ('DIAGNOSIS_SLURRED SPEACH;R/O STROKE', 47),\n",
       " ('DIAGNOSIS_STROKE', 48),\n",
       " ('DIAGNOSIS_STROKE,HEAD BLEED', 49),\n",
       " ('DIAGNOSIS_STROKE,RIGHT MCA', 50),\n",
       " ('DIAGNOSIS_STROKE;HEAD MASS', 51),\n",
       " ('DIAGNOSIS_STROKE;HEPATIC ENCEPHALOPATHY', 52),\n",
       " ('DIAGNOSIS_STROKE;TELEMETRY', 53),\n",
       " ('DIAGNOSIS_STROKE;TELEMETRY;TELEMETRY', 54),\n",
       " ('DIAGNOSIS_SUBACUTE STROKE', 55),\n",
       " ('ADM_DAY_0.0', 56),\n",
       " ('ADM_DAY_1.0', 57),\n",
       " ('ADM_DAY_2.0', 58),\n",
       " ('ADM_DAY_3.0', 59),\n",
       " ('ADM_DAY_4.0', 60),\n",
       " ('ADM_DAY_5.0', 61),\n",
       " ('ADM_DAY_6.0', 62),\n",
       " ('GENDER_F', 63),\n",
       " ('GENDER_M', 64),\n",
       " ('DRG_CODE_1', 65),\n",
       " ('DRG_CODE_10', 66),\n",
       " ('DRG_CODE_12', 67),\n",
       " ('DRG_CODE_121', 68),\n",
       " ('DRG_CODE_134', 69),\n",
       " ('DRG_CODE_14', 70),\n",
       " ('DRG_CODE_15', 71),\n",
       " ('DRG_CODE_17', 72),\n",
       " ('DRG_CODE_1734', 73),\n",
       " ('DRG_CODE_20', 74),\n",
       " ('DRG_CODE_24', 75),\n",
       " ('DRG_CODE_263', 76),\n",
       " ('DRG_CODE_28', 77),\n",
       " ('DRG_CODE_294', 78),\n",
       " ('DRG_CODE_34', 79),\n",
       " ('DRG_CODE_4', 80),\n",
       " ('DRG_CODE_416', 81),\n",
       " ('DRG_CODE_442', 82),\n",
       " ('DRG_CODE_444', 83),\n",
       " ('DRG_CODE_449', 84),\n",
       " ('DRG_CODE_452', 85),\n",
       " ('DRG_CODE_453', 86),\n",
       " ('DRG_CODE_454', 87),\n",
       " ('DRG_CODE_462', 88),\n",
       " ('DRG_CODE_463', 89),\n",
       " ('DRG_CODE_468', 90),\n",
       " ('DRG_CODE_478', 91),\n",
       " ('DRG_CODE_483', 92),\n",
       " ('DRG_CODE_490', 93),\n",
       " ('DRG_CODE_5', 94),\n",
       " ('DRG_CODE_524', 95),\n",
       " ('DRG_CODE_533', 96),\n",
       " ('DRG_CODE_54', 97),\n",
       " ('DRG_CODE_541', 98),\n",
       " ('DRG_CODE_542', 99),\n",
       " ('DRG_CODE_553', 100),\n",
       " ('DRG_CODE_559', 101),\n",
       " ('DRG_CODE_576', 102),\n",
       " ('DRG_CODE_582', 103),\n",
       " ('DRG_CODE_583', 104),\n",
       " ('DRG_CODE_7', 105),\n",
       " ('DRG_CODE_7203', 106),\n",
       " ('DRG_CODE_7204', 107),\n",
       " ('DRG_CODE_8', 108),\n",
       " ('DRG_CODE_8924', 109)]"
      ]
     },
     "execution_count": 17,
     "metadata": {},
     "output_type": "execute_result"
    }
   ],
   "source": [
    "column_titles = list(Xdf)\n",
    "value_map = []\n",
    "for value in range(len(column_titles)):\n",
    "    x = column_titles[value], value\n",
    "    value_map.append(x)\n",
    "value_map"
   ]
  },
  {
   "cell_type": "code",
   "execution_count": 18,
   "metadata": {},
   "outputs": [
    {
     "data": {
      "text/plain": [
       "array([  0,   1,   2,   3,   4,   5,   6,   7,   8,   9,  10,  11,  12,\n",
       "        13,  14,  15,  16,  17,  18,  19,  20,  21,  22,  23,  24,  25,\n",
       "        26,  27,  28,  29,  30,  31,  32,  33,  34,  35,  36,  37,  38,\n",
       "        39,  40,  41,  42,  43,  44,  45,  46,  47,  48,  49,  50,  51,\n",
       "        52,  53,  54,  55,  56,  57,  58,  59,  60,  61,  62,  63,  64,\n",
       "        65,  66,  67,  68,  69,  70,  71,  72,  73,  74,  75,  76,  77,\n",
       "        78,  79,  80,  81,  82,  83,  84,  85,  86,  87,  88,  89,  90,\n",
       "        91,  92,  93,  94,  95,  96,  97,  98,  99, 100, 101, 102, 103,\n",
       "       104, 105, 106, 107, 108, 109])"
      ]
     },
     "execution_count": 18,
     "metadata": {},
     "output_type": "execute_result"
    },
    {
     "data": {
      "text/plain": [
       "<matplotlib.figure.Figure at 0x10a190ac8>"
      ]
     },
     "metadata": {},
     "output_type": "display_data"
    }
   ],
   "source": [
    "plt.figure(1)\n",
    "plt.clf()\n",
    "\n",
    "X_indices = np.arange(X.shape[-1])\n",
    "X_indices"
   ]
  },
  {
   "cell_type": "markdown",
   "metadata": {},
   "source": [
    "Univariate feature selection with F-test for feature scoring\n",
    "We use the default selection function: the 10% most significant features\n"
   ]
  },
  {
   "cell_type": "code",
   "execution_count": 19,
   "metadata": {},
   "outputs": [
    {
     "name": "stderr",
     "output_type": "stream",
     "text": [
      "/Library/Frameworks/Python.framework/Versions/3.6/lib/python3.6/site-packages/sklearn/utils/validation.py:526: DataConversionWarning: A column-vector y was passed when a 1d array was expected. Please change the shape of y to (n_samples, ), for example using ravel().\n",
      "  y = column_or_1d(y, warn=True)\n"
     ]
    },
    {
     "data": {
      "text/plain": [
       "<Container object of 110 artists>"
      ]
     },
     "execution_count": 19,
     "metadata": {},
     "output_type": "execute_result"
    },
    {
     "data": {
      "image/png": "[encoded data removed]",
      "text/plain": [
       "<matplotlib.figure.Figure at 0x10db1cb00>"
      ]
     },
     "metadata": {},
     "output_type": "display_data"
    }
   ],
   "source": [
    "selector = SelectPercentile(f_classif, percentile=10)\n",
    "selector.fit(X, y)\n",
    "scores = -np.log10(selector.pvalues_)\n",
    "scores /= scores.max()\n",
    "plt.bar(X_indices - .45, scores, width=.2,\n",
    "        label=r'Univariate score ($-Log(p_{value})$)', color='darkorange')"
   ]
  },
  {
   "cell_type": "code",
   "execution_count": 20,
   "metadata": {},
   "outputs": [
    {
     "data": {
      "text/plain": [
       "\"\\n('ADM_DAY_0.0', 0.13418842234031289),\\n('ADM_DAY_1.0', 0.4994227619049853),\\n('ADM_DAY_2.0', 0.15037857397140769),\\n('ADM_DAY_3.0', 0.0056352821179760804),\\n('ADM_DAY_4.0', 0.0093515519395716822),\\n('ADM_DAY_5.0', 0.075274163793145041),\\n('ADM_DAY_6.0', 0.31793826550092569),\\n('GENDER_F', 0.060521920955894558),\\n('GENDER_M', 0.060521920955894558),\\n('DRG_CODE_12', 0.28830929328263438),\\n('DRG_CODE_14', 0.33564775541486708),\\n('DRG_CODE_15', 0.28830929328263438),\\n('DRG_CODE_20', 0.33064811423027091),\\n('DRG_CODE_24', 0.23991117135728041),\\n('DRG_CODE_263', 0.33064811423027091),\\n('DRG_CODE_28', 0.38408383504914417),\\n('DRG_CODE_442', 0.54884975340964048),\\n('DRG_CODE_454', 0.28902143056131591),\\n('DRG_CODE_468', 0.73723455768875967),\\n('DRG_CODE_478', 0.33064811423027091),\\n('DRG_CODE_5', 0.42344706980199209)\\n('DRG_CODE_533', 0.33064811423027091)\\n('DRG_CODE_576', 0.33064811423027091),\\n('DRG_CODE_582', 0.33064811423027091),\\n('DRG_CODE_7203', 0.33064811423027091),\\n('DRG_CODE_8', 0.54884975340964048),\\n\""
      ]
     },
     "execution_count": 20,
     "metadata": {},
     "output_type": "execute_result"
    }
   ],
   "source": [
    "score_map = []\n",
    "for x in range(len(scores)):\n",
    "    x = column_titles[x], scores[x]\n",
    "    score_map.append(x)\n",
    "score_map\n",
    "'''\n",
    "('ADM_DAY_0.0', 0.13418842234031289),\n",
    "('ADM_DAY_1.0', 0.4994227619049853),\n",
    "('ADM_DAY_2.0', 0.15037857397140769),\n",
    "('ADM_DAY_3.0', 0.0056352821179760804),\n",
    "('ADM_DAY_4.0', 0.0093515519395716822),\n",
    "('ADM_DAY_5.0', 0.075274163793145041),\n",
    "('ADM_DAY_6.0', 0.31793826550092569),\n",
    "('GENDER_F', 0.060521920955894558),\n",
    "('GENDER_M', 0.060521920955894558),\n",
    "('DRG_CODE_12', 0.28830929328263438),\n",
    "('DRG_CODE_14', 0.33564775541486708),\n",
    "('DRG_CODE_15', 0.28830929328263438),\n",
    "('DRG_CODE_20', 0.33064811423027091),\n",
    "('DRG_CODE_24', 0.23991117135728041),\n",
    "('DRG_CODE_263', 0.33064811423027091),\n",
    "('DRG_CODE_28', 0.38408383504914417),\n",
    "('DRG_CODE_442', 0.54884975340964048),\n",
    "('DRG_CODE_454', 0.28902143056131591),\n",
    "('DRG_CODE_468', 0.73723455768875967),\n",
    "('DRG_CODE_478', 0.33064811423027091),\n",
    "('DRG_CODE_5', 0.42344706980199209)\n",
    "('DRG_CODE_533', 0.33064811423027091)\n",
    "('DRG_CODE_576', 0.33064811423027091),\n",
    "('DRG_CODE_582', 0.33064811423027091),\n",
    "('DRG_CODE_7203', 0.33064811423027091),\n",
    "('DRG_CODE_8', 0.54884975340964048),\n",
    "'''"
   ]
  },
  {
   "cell_type": "code",
   "execution_count": 21,
   "metadata": {},
   "outputs": [
    {
     "data": {
      "text/plain": [
       "\" \\n ('ADM_DAY_0.0', 0.53250773817559804),\\n ('ADM_DAY_1.0', 0.095816262411387423),\\n ('ADM_DAY_2.0', 0.49352197616153592),\\n ('ADM_DAY_3.0', 0.97388343065263638),\\n ('ADM_DAY_4.0', 0.95703480780505201),\\n ('ADM_DAY_5.0', 0.7022312367417689),\\n ('ADM_DAY_6.0', 0.22468419005833071),\""
      ]
     },
     "execution_count": 21,
     "metadata": {},
     "output_type": "execute_result"
    }
   ],
   "source": [
    "pvalue_map = []\n",
    "for x in range(len(selector.pvalues_)):\n",
    "    x = column_titles[x], selector.pvalues_[x]\n",
    "    pvalue_map.append(x)\n",
    "''' \n",
    " ('ADM_DAY_0.0', 0.53250773817559804),\n",
    " ('ADM_DAY_1.0', 0.095816262411387423),\n",
    " ('ADM_DAY_2.0', 0.49352197616153592),\n",
    " ('ADM_DAY_3.0', 0.97388343065263638),\n",
    " ('ADM_DAY_4.0', 0.95703480780505201),\n",
    " ('ADM_DAY_5.0', 0.7022312367417689),\n",
    " ('ADM_DAY_6.0', 0.22468419005833071),'''"
   ]
  },
  {
   "cell_type": "markdown",
   "metadata": {},
   "source": [
    "Compare to the weights of an SVM\n"
   ]
  },
  {
   "cell_type": "code",
   "execution_count": 22,
   "metadata": {},
   "outputs": [
    {
     "name": "stderr",
     "output_type": "stream",
     "text": [
      "/Library/Frameworks/Python.framework/Versions/3.6/lib/python3.6/site-packages/sklearn/utils/validation.py:526: DataConversionWarning: A column-vector y was passed when a 1d array was expected. Please change the shape of y to (n_samples, ), for example using ravel().\n",
      "  y = column_or_1d(y, warn=True)\n"
     ]
    },
    {
     "data": {
      "image/png": "[encoded data removed]",
      "text/plain": [
       "<matplotlib.figure.Figure at 0x10c62b048>"
      ]
     },
     "metadata": {},
     "output_type": "display_data"
    }
   ],
   "source": [
    "clf = svm.SVC(kernel='linear')\n",
    "clf.fit(X, y)\n",
    "\n",
    "svm_weights = (clf.coef_ ** 2).sum(axis=0)\n",
    "svm_weights /= svm_weights.max()\n",
    "\n",
    "plt.bar(X_indices - .25, svm_weights, width=.2, label='SVM weight',\n",
    "        color='navy')\n",
    "\n",
    "clf_selected = svm.SVC(kernel='linear')\n",
    "clf_selected.fit(selector.transform(X), y)\n",
    "\n",
    "svm_weights_selected = (clf_selected.coef_ ** 2).sum(axis=0)\n",
    "svm_weights_selected /= svm_weights_selected.max()\n",
    "\n",
    "plt.bar(X_indices[selector.get_support()] - .05, svm_weights_selected,\n",
    "        width=.2, label='SVM weights after selection', color='c')\n",
    "\n",
    "\n",
    "plt.title(\"Comparing feature selection\")\n",
    "plt.xlabel('Feature number')\n",
    "plt.yticks(())\n",
    "plt.axis('tight')\n",
    "plt.legend(loc='upper right')\n",
    "plt.show()"
   ]
  },
  {
   "cell_type": "code",
   "execution_count": 23,
   "metadata": {
    "collapsed": true
   },
   "outputs": [],
   "source": [
    "from sklearn import svm, datasets, feature_selection\n",
    "from sklearn.model_selection import cross_val_score\n",
    "from sklearn.pipeline import Pipeline"
   ]
  },
  {
   "cell_type": "code",
   "execution_count": 24,
   "metadata": {
    "collapsed": true
   },
   "outputs": [],
   "source": [
    "transform = feature_selection.SelectPercentile(feature_selection.f_classif)\n",
    "\n",
    "clf = Pipeline([('anova', transform), ('svc', svm.SVC(C=1.0))])"
   ]
  },
  {
   "cell_type": "code",
   "execution_count": 25,
   "metadata": {},
   "outputs": [
    {
     "name": "stdout",
     "output_type": "stream",
     "text": [
      "(195, 110)\n"
     ]
    },
    {
     "data": {
      "text/plain": [
       "(195,)"
      ]
     },
     "execution_count": 25,
     "metadata": {},
     "output_type": "execute_result"
    }
   ],
   "source": [
    "print(X.shape)\n",
    "y_list = y.tolist()\n",
    "y_new = []\n",
    "for i in range(len(y_list)):\n",
    "    y_new.append(y_list[i][0])\n",
    "y_array = np.array(y_new)\n",
    "y_array.shape"
   ]
  },
  {
   "cell_type": "code",
   "execution_count": 26,
   "metadata": {},
   "outputs": [
    {
     "name": "stderr",
     "output_type": "stream",
     "text": [
      "/Library/Frameworks/Python.framework/Versions/3.6/lib/python3.6/site-packages/sklearn/feature_selection/univariate_selection.py:113: UserWarning: Features [  1   5   9  14  29  31  32  38  43  44  45  46  49  50  51  54  67  72\n",
      "  73  74  76  81  83  88  96 100 102 104 106 107 108] are constant.\n",
      "  UserWarning)\n",
      "/Library/Frameworks/Python.framework/Versions/3.6/lib/python3.6/site-packages/sklearn/feature_selection/univariate_selection.py:114: RuntimeWarning: invalid value encountered in true_divide\n",
      "  f = msb / msw\n",
      "/Library/Frameworks/Python.framework/Versions/3.6/lib/python3.6/site-packages/sklearn/feature_selection/univariate_selection.py:113: UserWarning: Features [  6  10  11  16  18  19  24  25  34  37  39  40  42  66  78  80  82  84\n",
      "  85  89  92  93  95  98 103 109] are constant.\n",
      "  UserWarning)\n",
      "/Library/Frameworks/Python.framework/Versions/3.6/lib/python3.6/site-packages/sklearn/feature_selection/univariate_selection.py:114: RuntimeWarning: invalid value encountered in true_divide\n",
      "  f = msb / msw\n",
      "/Library/Frameworks/Python.framework/Versions/3.6/lib/python3.6/site-packages/sklearn/feature_selection/univariate_selection.py:113: UserWarning: Features [ 0  3  4  7 15 17 20 22 26 27 30 36 41 47 52 55 69 91] are constant.\n",
      "  UserWarning)\n",
      "/Library/Frameworks/Python.framework/Versions/3.6/lib/python3.6/site-packages/sklearn/feature_selection/univariate_selection.py:114: RuntimeWarning: invalid value encountered in true_divide\n",
      "  f = msb / msw\n",
      "/Library/Frameworks/Python.framework/Versions/3.6/lib/python3.6/site-packages/sklearn/feature_selection/univariate_selection.py:113: UserWarning: Features [  1   5   9  14  29  31  32  38  43  44  45  46  49  50  51  54  67  72\n",
      "  73  74  76  81  83  88  96 100 102 104 106 107 108] are constant.\n",
      "  UserWarning)\n",
      "/Library/Frameworks/Python.framework/Versions/3.6/lib/python3.6/site-packages/sklearn/feature_selection/univariate_selection.py:114: RuntimeWarning: invalid value encountered in true_divide\n",
      "  f = msb / msw\n",
      "/Library/Frameworks/Python.framework/Versions/3.6/lib/python3.6/site-packages/sklearn/feature_selection/univariate_selection.py:113: UserWarning: Features [  6  10  11  16  18  19  24  25  34  37  39  40  42  66  78  80  82  84\n",
      "  85  89  92  93  95  98 103 109] are constant.\n",
      "  UserWarning)\n",
      "/Library/Frameworks/Python.framework/Versions/3.6/lib/python3.6/site-packages/sklearn/feature_selection/univariate_selection.py:114: RuntimeWarning: invalid value encountered in true_divide\n",
      "  f = msb / msw\n",
      "/Library/Frameworks/Python.framework/Versions/3.6/lib/python3.6/site-packages/sklearn/feature_selection/univariate_selection.py:113: UserWarning: Features [ 0  3  4  7 15 17 20 22 26 27 30 36 41 47 52 55 69 91] are constant.\n",
      "  UserWarning)\n",
      "/Library/Frameworks/Python.framework/Versions/3.6/lib/python3.6/site-packages/sklearn/feature_selection/univariate_selection.py:114: RuntimeWarning: invalid value encountered in true_divide\n",
      "  f = msb / msw\n",
      "/Library/Frameworks/Python.framework/Versions/3.6/lib/python3.6/site-packages/sklearn/feature_selection/univariate_selection.py:113: UserWarning: Features [  1   5   9  14  29  31  32  38  43  44  45  46  49  50  51  54  67  72\n",
      "  73  74  76  81  83  88  96 100 102 104 106 107 108] are constant.\n",
      "  UserWarning)\n",
      "/Library/Frameworks/Python.framework/Versions/3.6/lib/python3.6/site-packages/sklearn/feature_selection/univariate_selection.py:114: RuntimeWarning: invalid value encountered in true_divide\n",
      "  f = msb / msw\n",
      "/Library/Frameworks/Python.framework/Versions/3.6/lib/python3.6/site-packages/sklearn/feature_selection/univariate_selection.py:113: UserWarning: Features [  6  10  11  16  18  19  24  25  34  37  39  40  42  66  78  80  82  84\n",
      "  85  89  92  93  95  98 103 109] are constant.\n",
      "  UserWarning)\n",
      "/Library/Frameworks/Python.framework/Versions/3.6/lib/python3.6/site-packages/sklearn/feature_selection/univariate_selection.py:114: RuntimeWarning: invalid value encountered in true_divide\n",
      "  f = msb / msw\n",
      "/Library/Frameworks/Python.framework/Versions/3.6/lib/python3.6/site-packages/sklearn/feature_selection/univariate_selection.py:113: UserWarning: Features [ 0  3  4  7 15 17 20 22 26 27 30 36 41 47 52 55 69 91] are constant.\n",
      "  UserWarning)\n",
      "/Library/Frameworks/Python.framework/Versions/3.6/lib/python3.6/site-packages/sklearn/feature_selection/univariate_selection.py:114: RuntimeWarning: invalid value encountered in true_divide\n",
      "  f = msb / msw\n",
      "/Library/Frameworks/Python.framework/Versions/3.6/lib/python3.6/site-packages/sklearn/feature_selection/univariate_selection.py:113: UserWarning: Features [  1   5   9  14  29  31  32  38  43  44  45  46  49  50  51  54  67  72\n",
      "  73  74  76  81  83  88  96 100 102 104 106 107 108] are constant.\n",
      "  UserWarning)\n",
      "/Library/Frameworks/Python.framework/Versions/3.6/lib/python3.6/site-packages/sklearn/feature_selection/univariate_selection.py:114: RuntimeWarning: invalid value encountered in true_divide\n",
      "  f = msb / msw\n",
      "/Library/Frameworks/Python.framework/Versions/3.6/lib/python3.6/site-packages/sklearn/feature_selection/univariate_selection.py:113: UserWarning: Features [  6  10  11  16  18  19  24  25  34  37  39  40  42  66  78  80  82  84\n",
      "  85  89  92  93  95  98 103 109] are constant.\n",
      "  UserWarning)\n",
      "/Library/Frameworks/Python.framework/Versions/3.6/lib/python3.6/site-packages/sklearn/feature_selection/univariate_selection.py:114: RuntimeWarning: invalid value encountered in true_divide\n",
      "  f = msb / msw\n",
      "/Library/Frameworks/Python.framework/Versions/3.6/lib/python3.6/site-packages/sklearn/feature_selection/univariate_selection.py:113: UserWarning: Features [ 0  3  4  7 15 17 20 22 26 27 30 36 41 47 52 55 69 91] are constant.\n",
      "  UserWarning)\n",
      "/Library/Frameworks/Python.framework/Versions/3.6/lib/python3.6/site-packages/sklearn/feature_selection/univariate_selection.py:114: RuntimeWarning: invalid value encountered in true_divide\n",
      "  f = msb / msw\n",
      "/Library/Frameworks/Python.framework/Versions/3.6/lib/python3.6/site-packages/sklearn/feature_selection/univariate_selection.py:113: UserWarning: Features [  1   5   9  14  29  31  32  38  43  44  45  46  49  50  51  54  67  72\n",
      "  73  74  76  81  83  88  96 100 102 104 106 107 108] are constant.\n",
      "  UserWarning)\n",
      "/Library/Frameworks/Python.framework/Versions/3.6/lib/python3.6/site-packages/sklearn/feature_selection/univariate_selection.py:114: RuntimeWarning: invalid value encountered in true_divide\n",
      "  f = msb / msw\n",
      "/Library/Frameworks/Python.framework/Versions/3.6/lib/python3.6/site-packages/sklearn/feature_selection/univariate_selection.py:113: UserWarning: Features [  6  10  11  16  18  19  24  25  34  37  39  40  42  66  78  80  82  84\n",
      "  85  89  92  93  95  98 103 109] are constant.\n",
      "  UserWarning)\n",
      "/Library/Frameworks/Python.framework/Versions/3.6/lib/python3.6/site-packages/sklearn/feature_selection/univariate_selection.py:114: RuntimeWarning: invalid value encountered in true_divide\n",
      "  f = msb / msw\n",
      "/Library/Frameworks/Python.framework/Versions/3.6/lib/python3.6/site-packages/sklearn/feature_selection/univariate_selection.py:113: UserWarning: Features [ 0  3  4  7 15 17 20 22 26 27 30 36 41 47 52 55 69 91] are constant.\n",
      "  UserWarning)\n",
      "/Library/Frameworks/Python.framework/Versions/3.6/lib/python3.6/site-packages/sklearn/feature_selection/univariate_selection.py:114: RuntimeWarning: invalid value encountered in true_divide\n",
      "  f = msb / msw\n",
      "/Library/Frameworks/Python.framework/Versions/3.6/lib/python3.6/site-packages/sklearn/feature_selection/univariate_selection.py:113: UserWarning: Features [  1   5   9  14  29  31  32  38  43  44  45  46  49  50  51  54  67  72\n",
      "  73  74  76  81  83  88  96 100 102 104 106 107 108] are constant.\n",
      "  UserWarning)\n",
      "/Library/Frameworks/Python.framework/Versions/3.6/lib/python3.6/site-packages/sklearn/feature_selection/univariate_selection.py:114: RuntimeWarning: invalid value encountered in true_divide\n",
      "  f = msb / msw\n",
      "/Library/Frameworks/Python.framework/Versions/3.6/lib/python3.6/site-packages/sklearn/feature_selection/univariate_selection.py:113: UserWarning: Features [  6  10  11  16  18  19  24  25  34  37  39  40  42  66  78  80  82  84\n",
      "  85  89  92  93  95  98 103 109] are constant.\n",
      "  UserWarning)\n",
      "/Library/Frameworks/Python.framework/Versions/3.6/lib/python3.6/site-packages/sklearn/feature_selection/univariate_selection.py:114: RuntimeWarning: invalid value encountered in true_divide\n",
      "  f = msb / msw\n",
      "/Library/Frameworks/Python.framework/Versions/3.6/lib/python3.6/site-packages/sklearn/feature_selection/univariate_selection.py:113: UserWarning: Features [ 0  3  4  7 15 17 20 22 26 27 30 36 41 47 52 55 69 91] are constant.\n",
      "  UserWarning)\n",
      "/Library/Frameworks/Python.framework/Versions/3.6/lib/python3.6/site-packages/sklearn/feature_selection/univariate_selection.py:114: RuntimeWarning: invalid value encountered in true_divide\n",
      "  f = msb / msw\n",
      "/Library/Frameworks/Python.framework/Versions/3.6/lib/python3.6/site-packages/sklearn/feature_selection/univariate_selection.py:113: UserWarning: Features [  1   5   9  14  29  31  32  38  43  44  45  46  49  50  51  54  67  72\n",
      "  73  74  76  81  83  88  96 100 102 104 106 107 108] are constant.\n",
      "  UserWarning)\n",
      "/Library/Frameworks/Python.framework/Versions/3.6/lib/python3.6/site-packages/sklearn/feature_selection/univariate_selection.py:114: RuntimeWarning: invalid value encountered in true_divide\n",
      "  f = msb / msw\n",
      "/Library/Frameworks/Python.framework/Versions/3.6/lib/python3.6/site-packages/sklearn/feature_selection/univariate_selection.py:113: UserWarning: Features [  6  10  11  16  18  19  24  25  34  37  39  40  42  66  78  80  82  84\n",
      "  85  89  92  93  95  98 103 109] are constant.\n",
      "  UserWarning)\n",
      "/Library/Frameworks/Python.framework/Versions/3.6/lib/python3.6/site-packages/sklearn/feature_selection/univariate_selection.py:114: RuntimeWarning: invalid value encountered in true_divide\n",
      "  f = msb / msw\n",
      "/Library/Frameworks/Python.framework/Versions/3.6/lib/python3.6/site-packages/sklearn/feature_selection/univariate_selection.py:113: UserWarning: Features [ 0  3  4  7 15 17 20 22 26 27 30 36 41 47 52 55 69 91] are constant.\n",
      "  UserWarning)\n",
      "/Library/Frameworks/Python.framework/Versions/3.6/lib/python3.6/site-packages/sklearn/feature_selection/univariate_selection.py:114: RuntimeWarning: invalid value encountered in true_divide\n",
      "  f = msb / msw\n",
      "/Library/Frameworks/Python.framework/Versions/3.6/lib/python3.6/site-packages/sklearn/feature_selection/univariate_selection.py:113: UserWarning: Features [  1   5   9  14  29  31  32  38  43  44  45  46  49  50  51  54  67  72\n",
      "  73  74  76  81  83  88  96 100 102 104 106 107 108] are constant.\n",
      "  UserWarning)\n",
      "/Library/Frameworks/Python.framework/Versions/3.6/lib/python3.6/site-packages/sklearn/feature_selection/univariate_selection.py:114: RuntimeWarning: invalid value encountered in true_divide\n",
      "  f = msb / msw\n",
      "/Library/Frameworks/Python.framework/Versions/3.6/lib/python3.6/site-packages/sklearn/feature_selection/univariate_selection.py:113: UserWarning: Features [  6  10  11  16  18  19  24  25  34  37  39  40  42  66  78  80  82  84\n",
      "  85  89  92  93  95  98 103 109] are constant.\n",
      "  UserWarning)\n",
      "/Library/Frameworks/Python.framework/Versions/3.6/lib/python3.6/site-packages/sklearn/feature_selection/univariate_selection.py:114: RuntimeWarning: invalid value encountered in true_divide\n",
      "  f = msb / msw\n",
      "/Library/Frameworks/Python.framework/Versions/3.6/lib/python3.6/site-packages/sklearn/feature_selection/univariate_selection.py:113: UserWarning: Features [ 0  3  4  7 15 17 20 22 26 27 30 36 41 47 52 55 69 91] are constant.\n",
      "  UserWarning)\n",
      "/Library/Frameworks/Python.framework/Versions/3.6/lib/python3.6/site-packages/sklearn/feature_selection/univariate_selection.py:114: RuntimeWarning: invalid value encountered in true_divide\n",
      "  f = msb / msw\n",
      "/Library/Frameworks/Python.framework/Versions/3.6/lib/python3.6/site-packages/sklearn/feature_selection/univariate_selection.py:113: UserWarning: Features [  1   5   9  14  29  31  32  38  43  44  45  46  49  50  51  54  67  72\n",
      "  73  74  76  81  83  88  96 100 102 104 106 107 108] are constant.\n",
      "  UserWarning)\n",
      "/Library/Frameworks/Python.framework/Versions/3.6/lib/python3.6/site-packages/sklearn/feature_selection/univariate_selection.py:114: RuntimeWarning: invalid value encountered in true_divide\n",
      "  f = msb / msw\n",
      "/Library/Frameworks/Python.framework/Versions/3.6/lib/python3.6/site-packages/sklearn/feature_selection/univariate_selection.py:113: UserWarning: Features [  6  10  11  16  18  19  24  25  34  37  39  40  42  66  78  80  82  84\n",
      "  85  89  92  93  95  98 103 109] are constant.\n",
      "  UserWarning)\n",
      "/Library/Frameworks/Python.framework/Versions/3.6/lib/python3.6/site-packages/sklearn/feature_selection/univariate_selection.py:114: RuntimeWarning: invalid value encountered in true_divide\n",
      "  f = msb / msw\n",
      "/Library/Frameworks/Python.framework/Versions/3.6/lib/python3.6/site-packages/sklearn/feature_selection/univariate_selection.py:113: UserWarning: Features [ 0  3  4  7 15 17 20 22 26 27 30 36 41 47 52 55 69 91] are constant.\n",
      "  UserWarning)\n",
      "/Library/Frameworks/Python.framework/Versions/3.6/lib/python3.6/site-packages/sklearn/feature_selection/univariate_selection.py:114: RuntimeWarning: invalid value encountered in true_divide\n",
      "  f = msb / msw\n",
      "/Library/Frameworks/Python.framework/Versions/3.6/lib/python3.6/site-packages/sklearn/feature_selection/univariate_selection.py:113: UserWarning: Features [  1   5   9  14  29  31  32  38  43  44  45  46  49  50  51  54  67  72\n",
      "  73  74  76  81  83  88  96 100 102 104 106 107 108] are constant.\n",
      "  UserWarning)\n",
      "/Library/Frameworks/Python.framework/Versions/3.6/lib/python3.6/site-packages/sklearn/feature_selection/univariate_selection.py:114: RuntimeWarning: invalid value encountered in true_divide\n",
      "  f = msb / msw\n",
      "/Library/Frameworks/Python.framework/Versions/3.6/lib/python3.6/site-packages/sklearn/feature_selection/univariate_selection.py:113: UserWarning: Features [  6  10  11  16  18  19  24  25  34  37  39  40  42  66  78  80  82  84\n",
      "  85  89  92  93  95  98 103 109] are constant.\n",
      "  UserWarning)\n",
      "/Library/Frameworks/Python.framework/Versions/3.6/lib/python3.6/site-packages/sklearn/feature_selection/univariate_selection.py:114: RuntimeWarning: invalid value encountered in true_divide\n",
      "  f = msb / msw\n",
      "/Library/Frameworks/Python.framework/Versions/3.6/lib/python3.6/site-packages/sklearn/feature_selection/univariate_selection.py:113: UserWarning: Features [ 0  3  4  7 15 17 20 22 26 27 30 36 41 47 52 55 69 91] are constant.\n",
      "  UserWarning)\n",
      "/Library/Frameworks/Python.framework/Versions/3.6/lib/python3.6/site-packages/sklearn/feature_selection/univariate_selection.py:114: RuntimeWarning: invalid value encountered in true_divide\n",
      "  f = msb / msw\n",
      "/Library/Frameworks/Python.framework/Versions/3.6/lib/python3.6/site-packages/sklearn/feature_selection/univariate_selection.py:113: UserWarning: Features [  1   5   9  14  29  31  32  38  43  44  45  46  49  50  51  54  67  72\n",
      "  73  74  76  81  83  88  96 100 102 104 106 107 108] are constant.\n",
      "  UserWarning)\n",
      "/Library/Frameworks/Python.framework/Versions/3.6/lib/python3.6/site-packages/sklearn/feature_selection/univariate_selection.py:114: RuntimeWarning: invalid value encountered in true_divide\n",
      "  f = msb / msw\n"
     ]
    },
    {
     "name": "stderr",
     "output_type": "stream",
     "text": [
      "/Library/Frameworks/Python.framework/Versions/3.6/lib/python3.6/site-packages/sklearn/feature_selection/univariate_selection.py:113: UserWarning: Features [  6  10  11  16  18  19  24  25  34  37  39  40  42  66  78  80  82  84\n",
      "  85  89  92  93  95  98 103 109] are constant.\n",
      "  UserWarning)\n",
      "/Library/Frameworks/Python.framework/Versions/3.6/lib/python3.6/site-packages/sklearn/feature_selection/univariate_selection.py:114: RuntimeWarning: invalid value encountered in true_divide\n",
      "  f = msb / msw\n",
      "/Library/Frameworks/Python.framework/Versions/3.6/lib/python3.6/site-packages/sklearn/feature_selection/univariate_selection.py:113: UserWarning: Features [ 0  3  4  7 15 17 20 22 26 27 30 36 41 47 52 55 69 91] are constant.\n",
      "  UserWarning)\n",
      "/Library/Frameworks/Python.framework/Versions/3.6/lib/python3.6/site-packages/sklearn/feature_selection/univariate_selection.py:114: RuntimeWarning: invalid value encountered in true_divide\n",
      "  f = msb / msw\n"
     ]
    },
    {
     "data": {
      "image/png": "[encoded data removed]",
      "text/plain": [
       "<matplotlib.figure.Figure at 0x10adb27b8>"
      ]
     },
     "metadata": {},
     "output_type": "display_data"
    }
   ],
   "source": [
    "score_means = list()\n",
    "score_stds = list()\n",
    "percentiles = (1, 3, 6, 10, 15, 20, 30, 40, 60, 80, 100)\n",
    "\n",
    "for percentile in percentiles:\n",
    "    clf.set_params(anova__percentile=percentile)\n",
    "    # Compute cross-validation score using 1 CPU\n",
    "    this_scores = cross_val_score(clf, X, y_array, n_jobs=1)\n",
    "    score_means.append(this_scores.mean())\n",
    "    score_stds.append(this_scores.std())\n",
    "\n",
    "plt.errorbar(percentiles, score_means, np.array(score_stds))\n",
    "\n",
    "plt.title('Performance of the SVM-Anova varying the percentile of features selected')\n",
    "plt.xlabel('Percentile')\n",
    "plt.ylabel('Prediction rate')\n",
    "\n",
    "plt.axis('tight')\n",
    "plt.show()"
   ]
  },
  {
   "cell_type": "markdown",
   "metadata": {},
   "source": [
    "# Multivariate analysis"
   ]
  },
  {
   "cell_type": "code",
   "execution_count": 27,
   "metadata": {},
   "outputs": [],
   "source": [
    "from sklearn.model_selection import train_test_split\n",
    "df4 = df3[['DIAGNOSIS', 'ADM_DAY', 'GENDER', 'DRG_CODE']].copy()\n",
    "df4x = pd.get_dummies(df4)\n",
    "X3 = df4x[['ADM_DAY_0.0', 'ADM_DAY_1.0', 'ADM_DAY_2.0', 'ADM_DAY_3.0', 'ADM_DAY_4.0', 'ADM_DAY_5.0', 'ADM_DAY_6.0']]\n",
    "\n",
    "train_X3, test_X3 = train_test_split(X, test_size=0.2, random_state=42)\n",
    "\n",
    "y3 = df3[['EXPIRE_FLAG']].copy()\n",
    "train_y3, test_y3 = train_test_split(y, test_size=0.2, random_state=42)"
   ]
  },
  {
   "cell_type": "code",
   "execution_count": 28,
   "metadata": {
    "collapsed": true
   },
   "outputs": [],
   "source": [
    "y_list = test_y3.tolist()\n",
    "y_new = []\n",
    "for i in range(len(y_list)):\n",
    "    y_new.append(y_list[i][0])\n",
    "test_y3 = np.array(y_new)"
   ]
  },
  {
   "cell_type": "code",
   "execution_count": 29,
   "metadata": {},
   "outputs": [
    {
     "name": "stderr",
     "output_type": "stream",
     "text": [
      "/Library/Frameworks/Python.framework/Versions/3.6/lib/python3.6/site-packages/sklearn/utils/validation.py:526: DataConversionWarning: A column-vector y was passed when a 1d array was expected. Please change the shape of y to (n_samples, ), for example using ravel().\n",
      "  y = column_or_1d(y, warn=True)\n"
     ]
    },
    {
     "data": {
      "text/plain": [
       "LogisticRegression(C=1.0, class_weight=None, dual=False, fit_intercept=True,\n",
       "          intercept_scaling=1, max_iter=100, multi_class='multinomial',\n",
       "          n_jobs=1, penalty='l2', random_state=None, solver='newton-cg',\n",
       "          tol=0.0001, verbose=0, warm_start=False)"
      ]
     },
     "execution_count": 29,
     "metadata": {},
     "output_type": "execute_result"
    }
   ],
   "source": [
    "from sklearn.linear_model import LogisticRegression\n",
    "lr_mn = LogisticRegression(multi_class='multinomial', solver ='newton-cg')\n",
    "lr_mn.fit(train_X3, train_y3)"
   ]
  },
  {
   "cell_type": "code",
   "execution_count": 30,
   "metadata": {},
   "outputs": [
    {
     "name": "stderr",
     "output_type": "stream",
     "text": [
      "/Library/Frameworks/Python.framework/Versions/3.6/lib/python3.6/site-packages/sklearn/cross_validation.py:44: DeprecationWarning: This module was deprecated in version 0.18 in favor of the model_selection module into which all the refactored classes and functions are moved. Also note that the interface of the new CV iterators are different from that of this module. This module will be removed in 0.20.\n",
      "  \"This module will be removed in 0.20.\", DeprecationWarning)\n"
     ]
    },
    {
     "name": "stdout",
     "output_type": "stream",
     "text": [
      "0.487179487179\n"
     ]
    }
   ],
   "source": [
    "from sklearn import metrics, cross_validation\n",
    "\n",
    "preds = cross_validation.cross_val_predict(lr_mn, test_X3, test_y3, cv=10)\n",
    "print (metrics.accuracy_score(test_y3, preds))"
   ]
  },
  {
   "cell_type": "code",
   "execution_count": 31,
   "metadata": {},
   "outputs": [
    {
     "name": "stdout",
     "output_type": "stream",
     "text": [
      "             precision    recall  f1-score   support\n",
      "\n",
      "          0       0.12      0.07      0.09        14\n",
      "          1       0.58      0.72      0.64        25\n",
      "\n",
      "avg / total       0.42      0.49      0.44        39\n",
      "\n"
     ]
    }
   ],
   "source": [
    "print (metrics.classification_report(test_y3, preds)) "
   ]
  },
  {
   "cell_type": "markdown",
   "metadata": {},
   "source": [
    "=======================================\n",
    "Receiver Operating Characteristic (ROC)\n",
    "=======================================\n",
    "\n",
    "Example of Receiver Operating Characteristic (ROC) metric to evaluate\n",
    "classifier output quality.\n",
    "\n",
    "ROC curves typically feature true positive rate on the Y axis, and false\n",
    "positive rate on the X axis. This means that the top left corner of the plot is\n",
    "the \"ideal\" point - a false positive rate of zero, and a true positive rate of\n",
    "one. This is not very realistic, but it does mean that a larger area under the\n",
    "curve (AUC) is usually better.\n",
    "\n",
    "The \"steepness\" of ROC curves is also important, since it is ideal to maximize\n",
    "the true positive rate while minimizing the false positive rate.\n",
    "\n",
    "Multiclass settings\n",
    "-------------------\n",
    "\n",
    "ROC curves are typically used in binary classification to study the output of\n",
    "a classifier. In order to extend ROC curve and ROC area to multi-class\n",
    "or multi-label classification, it is necessary to binarize the output. One ROC\n",
    "curve can be drawn per label, but one can also draw a ROC curve by considering\n",
    "each element of the label indicator matrix as a binary prediction\n",
    "(micro-averaging).\n",
    "\n",
    "Another evaluation measure for multi-class classification is\n",
    "macro-averaging, which gives equal weight to the classification of each\n",
    "label."
   ]
  },
  {
   "cell_type": "code",
   "execution_count": 32,
   "metadata": {},
   "outputs": [],
   "source": [
    "from itertools import cycle\n",
    "from sklearn import svm, datasets\n",
    "from sklearn.metrics import roc_curve, auc\n",
    "from sklearn.preprocessing import label_binarize\n",
    "from scipy import interp\n",
    "random_state = np.random.RandomState(42)"
   ]
  },
  {
   "cell_type": "code",
   "execution_count": null,
   "metadata": {},
   "outputs": [],
   "source": []
  },
  {
   "cell_type": "code",
   "execution_count": 33,
   "metadata": {},
   "outputs": [],
   "source": [
    "# Convert to Binarize formatting\n",
    "yy = y3.applymap(int).as_matrix()\n",
    "y4 = label_binarize(yy, classes=[0, 1])\n",
    "n_classes = y.shape[1]"
   ]
  },
  {
   "cell_type": "code",
   "execution_count": 34,
   "metadata": {},
   "outputs": [],
   "source": [
    "# shuffle and split training and test sets\n",
    "X4_train, X4_test, y4_train, y4_test = train_test_split(X3, y4, test_size=.3,\n",
    "                                                    random_state=42)\n",
    "n_classes = y4.shape[1]"
   ]
  },
  {
   "cell_type": "code",
   "execution_count": 36,
   "metadata": {},
   "outputs": [],
   "source": [
    "# Learn to predict each class against the other\n",
    "from sklearn.multiclass import OneVsRestClassifier\n",
    "classifier = OneVsRestClassifier(svm.SVC(kernel='linear', probability=True,\n",
    "                                 random_state=random_state))\n",
    "y4_score = classifier.fit(X4_train, y4_train).decision_function(X4_test)"
   ]
  },
  {
   "cell_type": "code",
   "execution_count": 38,
   "metadata": {},
   "outputs": [],
   "source": [
    "# Compute ROC curve and ROC area for each class\n",
    "fpr = dict()\n",
    "tpr = dict()\n",
    "roc_auc = dict()\n",
    "for i in range(n_classes):\n",
    "    fpr[i], tpr[i], _ = roc_curve(y4_test[:, i], y4_score[:, i])\n",
    "    roc_auc[i] = auc(fpr[i], tpr[i])"
   ]
  },
  {
   "cell_type": "code",
   "execution_count": 39,
   "metadata": {},
   "outputs": [],
   "source": [
    "# Compute micro-average ROC curve and ROC area\n",
    "fpr[\"micro\"], tpr[\"micro\"], _ = roc_curve(y4_test.ravel(), y4_score.ravel())\n",
    "roc_auc[\"micro\"] = auc(fpr[\"micro\"], tpr[\"micro\"])"
   ]
  },
  {
   "cell_type": "code",
   "execution_count": 47,
   "metadata": {},
   "outputs": [
    {
     "data": {
      "image/png": "[encoded data removed]",
      "text/plain": [
       "<matplotlib.figure.Figure at 0x10e313438>"
      ]
     },
     "metadata": {},
     "output_type": "display_data"
    }
   ],
   "source": [
    "plt.figure()\n",
    "lw = 2\n",
    "plt.plot(fpr[0], tpr[0], color='darkorange',\n",
    "         lw=lw, label='ROC curve (area = %0.2f)' % roc_auc[0])\n",
    "plt.plot([0, 1], [0, 1], color='navy', lw=lw, linestyle='--')\n",
    "plt.xlim([0.0, 1.0])\n",
    "plt.ylim([0.0, 1.05])\n",
    "plt.xlabel('False Positive Rate')\n",
    "plt.ylabel('True Positive Rate')\n",
    "plt.title('Receiver operating characteristic example')\n",
    "plt.legend(loc=\"lower right\")\n",
    "plt.show()"
   ]
  },
  {
   "cell_type": "code",
   "execution_count": 48,
   "metadata": {},
   "outputs": [
    {
     "data": {
      "image/png": "[encoded data removed]",
      "text/plain": [
       "<matplotlib.figure.Figure at 0x10c911978>"
      ]
     },
     "metadata": {},
     "output_type": "display_data"
    }
   ],
   "source": [
    "# Compute macro-average ROC curve and ROC area\n",
    "\n",
    "# First aggregate all false positive rates\n",
    "all_fpr = np.unique(np.concatenate([fpr[i] for i in range(n_classes)]))\n",
    "\n",
    "# Then interpolate all ROC curves at this points\n",
    "mean_tpr = np.zeros_like(all_fpr)\n",
    "for i in range(n_classes):\n",
    "    mean_tpr += interp(all_fpr, fpr[i], tpr[i])\n",
    "\n",
    "# Finally average it and compute AUC\n",
    "mean_tpr /= n_classes\n",
    "\n",
    "fpr[\"macro\"] = all_fpr\n",
    "tpr[\"macro\"] = mean_tpr\n",
    "roc_auc[\"macro\"] = auc(fpr[\"macro\"], tpr[\"macro\"])\n",
    "\n",
    "# Plot all ROC curves\n",
    "plt.figure()\n",
    "plt.plot(fpr[\"micro\"], tpr[\"micro\"],\n",
    "         label='micro-average ROC curve (area = {0:0.2f})'\n",
    "               ''.format(roc_auc[\"micro\"]),\n",
    "         color='deeppink', linestyle=':', linewidth=4)\n",
    "\n",
    "plt.plot(fpr[\"macro\"], tpr[\"macro\"],\n",
    "         label='macro-average ROC curve (area = {0:0.2f})'\n",
    "               ''.format(roc_auc[\"macro\"]),\n",
    "         color='navy', linestyle=':', linewidth=4)\n",
    "\n",
    "colors = cycle(['aqua', 'darkorange'])\n",
    "for i, color in zip(range(n_classes), colors):\n",
    "    plt.plot(fpr[i], tpr[i], color=color, lw=lw,\n",
    "             label='ROC curve of class {0} (area = {1:0.2f})'\n",
    "             ''.format(i, roc_auc[i]))\n",
    "\n",
    "plt.plot([0, 1], [0, 1], 'k--', lw=lw)\n",
    "plt.xlim([0.0, 1.0])\n",
    "plt.ylim([0.0, 1.05])\n",
    "plt.xlabel('False Positive Rate')\n",
    "plt.ylabel('True Positive Rate')\n",
    "plt.title('Some extension of Receiver operating characteristic to multi-class')\n",
    "plt.legend(loc=\"lower right\")\n",
    "plt.show()"
   ]
  },
  {
   "cell_type": "code",
   "execution_count": 105,
   "metadata": {},
   "outputs": [
    {
     "data": {
      "text/plain": [
       "0.42199017199017197"
      ]
     },
     "execution_count": 105,
     "metadata": {},
     "output_type": "execute_result"
    }
   ],
   "source": [
    "from sklearn.metrics import roc_auc_score\n",
    "roc_auc_score(y4_test, y4_score)"
   ]
  },
  {
   "cell_type": "markdown",
   "metadata": {},
   "source": [
    "\n",
    "=============================================================\n",
    "Receiver Operating Characteristic (ROC) with cross validation\n",
    "=============================================================\n",
    "\n",
    "Example of Receiver Operating Characteristic (ROC) metric to evaluate\n",
    "classifier output quality using cross-validation.\n",
    "\n",
    "ROC curves typically feature true positive rate on the Y axis, and false\n",
    "positive rate on the X axis. This means that the top left corner of the plot is\n",
    "the \"ideal\" point - a false positive rate of zero, and a true positive rate of\n",
    "one. This is not very realistic, but it does mean that a larger area under the\n",
    "curve (AUC) is usually better.\n",
    "\n",
    "The \"steepness\" of ROC curves is also important, since it is ideal to maximize\n",
    "the true positive rate while minimizing the false positive rate.\n",
    "\n",
    "This example shows the ROC response of different datasets, created from K-fold\n",
    "cross-validation. Taking all of these curves, it is possible to calculate the\n",
    "mean area under curve, and see the variance of the curve when the\n",
    "training set is split into different subsets. This roughly shows how the\n",
    "classifier output is affected by changes in the training data, and how\n",
    "different the splits generated by K-fold cross-validation are from one another."
   ]
  },
  {
   "cell_type": "markdown",
   "metadata": {},
   "source": [
    "# import numpy as np\n",
    "from scipy import interp\n",
    "import matplotlib.pyplot as plt\n",
    "from itertools import cycle\n",
    "\n",
    "from sklearn import svm, datasets\n",
    "from sklearn.metrics import roc_curve, auc\n",
    "from sklearn.model_selection import StratifiedKFold"
   ]
  },
  {
   "cell_type": "code",
   "execution_count": 56,
   "metadata": {
    "collapsed": true
   },
   "outputs": [],
   "source": [
    "# Run classifier with cross-validation\n",
    "cv = StratifiedKFold(n_splits=6)\n",
    "classifier = svm.SVC(kernel='linear', probability=True, random_state=random_state)\n",
    "\n",
    "\n",
    "mean_tpr = 0.0\n",
    "mean_fpr = np.linspace(0, 1, 195) # (change based on size of data being run)"
   ]
  },
  {
   "cell_type": "code",
   "execution_count": 75,
   "metadata": {},
   "outputs": [],
   "source": [
    "y5 = y3.applymap(int) #change: make y values a one row matrix of ints\n",
    "y_list = y5['EXPIRE_FLAG'].tolist()\n",
    "y_new = []\n",
    "for i in range(len(y_list)):\n",
    "    y_new.append(y_list[i])\n",
    "y5 = np.array(y_new)"
   ]
  },
  {
   "cell_type": "code",
   "execution_count": 90,
   "metadata": {},
   "outputs": [],
   "source": [
    "X5 = X3.applymap(int).as_matrix() #change: make X values a matrix of ints\n",
    "n_samples, n_features = X5.shape "
   ]
  },
  {
   "cell_type": "code",
   "execution_count": 98,
   "metadata": {},
   "outputs": [
    {
     "data": {
      "image/png": "[encoded data removed]",
      "text/plain": [
       "<matplotlib.figure.Figure at 0x10f1cf550>"
      ]
     },
     "metadata": {},
     "output_type": "display_data"
    }
   ],
   "source": [
    "colors = cycle(['cyan', 'indigo', 'seagreen', 'yellow', 'blue', 'darkorange'])\n",
    "lw = 2\n",
    "\n",
    "i = 0\n",
    "for (train, test), color in zip(cv.split(X5, y5), colors):\n",
    "    probas_ = classifier.fit(X5[train], y5[train]).predict_proba(X5[test])\n",
    "    # Compute ROC curve and area the curve\n",
    "    fpr, tpr, thresholds = roc_curve(y5[test], probas_[:, 1])\n",
    "    mean_tpr += interp(mean_fpr, fpr, tpr)\n",
    "    mean_tpr[0] = 0.0\n",
    "    roc_auc = auc(fpr, tpr)\n",
    "    plt.plot(fpr, tpr, lw=lw, color=color,\n",
    "             label='ROC fold %d (area = %0.2f)' % (i, roc_auc))\n",
    "\n",
    "    i += 1\n",
    "\n",
    "plt.plot([0, 1], [0, 1], linestyle='--', lw=lw, color='k', \n",
    "         label='Luck')\n",
    "\n",
    "mean_tpr /= cv.get_n_splits(X5, y5)\n",
    "mean_tpr[-1] = 1.0\n",
    "mean_auc = auc(mean_fpr, mean_tpr)\n",
    "plt.plot(mean_fpr, mean_tpr, color='g', linestyle='--',\n",
    "         label='Mean ROC (area = %0.2f)' % mean_auc, lw=lw)\n",
    "\n",
    "plt.xlim([-0.05, 1.05])\n",
    "plt.ylim([-0.05, 1.05])\n",
    "plt.xlabel('False Positive Rate')\n",
    "plt.ylabel('True Positive Rate')\n",
    "plt.title('Receiver operating characteristic example')\n",
    "plt.legend(loc=\"lower right\")\n",
    "plt.show()"
   ]
  },
  {
   "cell_type": "code",
   "execution_count": null,
   "metadata": {
    "collapsed": true
   },
   "outputs": [],
   "source": []
  },
  {
   "cell_type": "code",
   "execution_count": null,
   "metadata": {
    "collapsed": true
   },
   "outputs": [],
   "source": []
  },
  {
   "cell_type": "code",
   "execution_count": null,
   "metadata": {
    "collapsed": true
   },
   "outputs": [],
   "source": []
  },
  {
   "cell_type": "code",
   "execution_count": null,
   "metadata": {
    "collapsed": true
   },
   "outputs": [],
   "source": []
  },
  {
   "cell_type": "code",
   "execution_count": null,
   "metadata": {
    "collapsed": true
   },
   "outputs": [],
   "source": []
  },
  {
   "cell_type": "code",
   "execution_count": null,
   "metadata": {
    "collapsed": true
   },
   "outputs": [],
   "source": []
  },
  {
   "cell_type": "code",
   "execution_count": null,
   "metadata": {
    "collapsed": true
   },
   "outputs": [],
   "source": []
  }
 ],
 "metadata": {
  "kernelspec": {
   "display_name": "Python 3",
   "language": "python",
   "name": "python3"
  },
  "language_info": {
   "codemirror_mode": {
    "name": "ipython",
    "version": 3
   },
   "file_extension": ".py",
   "mimetype": "text/x-python",
   "name": "python",
   "nbconvert_exporter": "python",
   "pygments_lexer": "ipython3",
   "version": "3.6.1"
  }
 },
 "nbformat": 4,
 "nbformat_minor": 1
}
