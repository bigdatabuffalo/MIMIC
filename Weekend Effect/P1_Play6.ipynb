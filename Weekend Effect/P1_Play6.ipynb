{
 "cells": [
  {
   "cell_type": "code",
   "execution_count": 83,
   "metadata": {},
   "outputs": [
    {
     "name": "stdout",
     "output_type": "stream",
     "text": [
      "Automatically created module for IPython interactive environment\n"
     ]
    }
   ],
   "source": [
    "print(__doc__)\n",
    "\n",
    "# Common imports\n",
    "import numpy as np\n",
    "import numpy.random as rnd\n",
    "import os\n",
    "import pandas as pd\n",
    "\n",
    "# To make this notebook's output stable across runs\n",
    "rnd.seed(42)\n",
    "\n",
    "# To plot pretty figures\n",
    "%matplotlib inline\n",
    "import matplotlib\n",
    "import matplotlib.pyplot as plt\n",
    "plt.rcParams['axes.labelsize'] = 14\n",
    "plt.rcParams['xtick.labelsize'] = 10\n",
    "plt.rcParams['ytick.labelsize'] = 10"
   ]
  },
  {
   "cell_type": "code",
   "execution_count": 9,
   "metadata": {
    "collapsed": true
   },
   "outputs": [],
   "source": [
    "#P(therapeutic) = 1 - [prob(lower than 60) + prob(higher than 100)]\n"
   ]
  },
  {
   "cell_type": "markdown",
   "metadata": {},
   "source": [
    "# Load Data"
   ]
  },
  {
   "cell_type": "code",
   "execution_count": 30,
   "metadata": {
    "collapsed": true
   },
   "outputs": [],
   "source": [
    "csv_path = 'MIMIC II/ADMISSIONS.csv'\n",
    "admissions = pd.read_csv(csv_path)\n",
    "admissions.fillna('NoData', inplace = True)\n",
    "admissions = admissions.applymap(str)\n",
    "\n",
    "csv_path = 'MIMIC II/PATIENTS.csv'\n",
    "patients = pd.read_csv(csv_path)\n",
    "patients = patients.applymap(str)"
   ]
  },
  {
   "cell_type": "code",
   "execution_count": 31,
   "metadata": {},
   "outputs": [],
   "source": [
    "admissions = admissions.drop(['ROW_ID', 'HADM_ID', 'DISCHTIME', 'ADMISSION_LOCATION', 'DIAGNOSIS', 'EDREGTIME', 'EDOUTTIME', 'HOSPITAL_EXPIRE_FLAG', 'DEATHTIME', 'ADMISSION_TYPE', 'DISCHARGE_LOCATION', 'INSURANCE', 'LANGUAGE', 'RELIGION', 'MARITAL_STATUS', 'ETHNICITY', 'HAS_CHARTEVENTS_DATA'], axis = 1)\n",
    "patients = patients.drop(['ROW_ID', 'DOB', 'DOD', 'DOD_HOSP', 'DOD_SSN'], axis = 1)"
   ]
  },
  {
   "cell_type": "code",
   "execution_count": 32,
   "metadata": {},
   "outputs": [
    {
     "data": {
      "text/html": [
       "<div>\n",
       "<style>\n",
       "    .dataframe thead tr:only-child th {\n",
       "        text-align: right;\n",
       "    }\n",
       "\n",
       "    .dataframe thead th {\n",
       "        text-align: left;\n",
       "    }\n",
       "\n",
       "    .dataframe tbody tr th {\n",
       "        vertical-align: top;\n",
       "    }\n",
       "</style>\n",
       "<table border=\"1\" class=\"dataframe\">\n",
       "  <thead>\n",
       "    <tr style=\"text-align: right;\">\n",
       "      <th></th>\n",
       "      <th>SUBJECT_ID</th>\n",
       "      <th>ADM_DAY</th>\n",
       "    </tr>\n",
       "  </thead>\n",
       "  <tbody>\n",
       "    <tr>\n",
       "      <th>0</th>\n",
       "      <td>22</td>\n",
       "      <td>5</td>\n",
       "    </tr>\n",
       "    <tr>\n",
       "      <th>1</th>\n",
       "      <td>23</td>\n",
       "      <td>0</td>\n",
       "    </tr>\n",
       "    <tr>\n",
       "      <th>2</th>\n",
       "      <td>23</td>\n",
       "      <td>1</td>\n",
       "    </tr>\n",
       "    <tr>\n",
       "      <th>3</th>\n",
       "      <td>24</td>\n",
       "      <td>5</td>\n",
       "    </tr>\n",
       "    <tr>\n",
       "      <th>4</th>\n",
       "      <td>25</td>\n",
       "      <td>6</td>\n",
       "    </tr>\n",
       "  </tbody>\n",
       "</table>\n",
       "</div>"
      ],
      "text/plain": [
       "  SUBJECT_ID  ADM_DAY\n",
       "0         22        5\n",
       "1         23        0\n",
       "2         23        1\n",
       "3         24        5\n",
       "4         25        6"
      ]
     },
     "execution_count": 32,
     "metadata": {},
     "output_type": "execute_result"
    }
   ],
   "source": [
    "# Convert the dates into weekdays\n",
    "import datetime\n",
    "\n",
    "admTime = admissions['ADMITTIME'].copy()\n",
    "\n",
    "def get_day_of_week (value):\n",
    "    date = []\n",
    "    int_date = []\n",
    "    day_of_week = []\n",
    "    \n",
    "    #replace dashes and colons with spaces to make breaking the string up easier\n",
    "    value = value.replace('-', ' ')\n",
    "    value = value.replace(':', ' ')\n",
    "    \n",
    "    #split into a string outputting [year, month, day, hour, minutes, seconds]\n",
    "    date = value.split(' ')\n",
    "    \n",
    "    #delete hour/min/sec, convert to integers\n",
    "    del date[3:6]\n",
    "    int_date = [int(i) for i in date]\n",
    "    \n",
    "    #get day of week and return it\n",
    "    day_of_week = datetime.date(int_date[0], int_date[1], int_date[2]).weekday()\n",
    "    \n",
    "    return day_of_week\n",
    "\n",
    "\n",
    "admTime_weekday = [get_day_of_week(value) for value in admTime]\n",
    "\n",
    "weekday_data = pd.DataFrame({'ADM_DAY' : admTime_weekday})\n",
    "admissions = pd.concat([admissions, weekday_data], axis=1)\n",
    "admissions = admissions.drop('ADMITTIME', axis = 1)\n",
    "admissions = admissions.dropna()\n",
    "admissions.head()"
   ]
  },
  {
   "cell_type": "code",
   "execution_count": 47,
   "metadata": {},
   "outputs": [
    {
     "name": "stdout",
     "output_type": "stream",
     "text": [
      "<class 'pandas.core.frame.DataFrame'>\n",
      "Int64Index: 58976 entries, 0 to 58975\n",
      "Data columns (total 3 columns):\n",
      "ADM_DAY        58976 non-null object\n",
      "GENDER         58976 non-null object\n",
      "EXPIRE_FLAG    58976 non-null object\n",
      "dtypes: object(3)\n",
      "memory usage: 1.8+ MB\n"
     ]
    }
   ],
   "source": [
    "fullData = pd.merge(admissions, patients, on = 'SUBJECT_ID')\n",
    "fullData = fullData.drop('SUBJECT_ID', axis = 1)\n",
    "fullData = fullData.applymap(str)\n",
    "fullData.info()"
   ]
  },
  {
   "cell_type": "code",
   "execution_count": 48,
   "metadata": {},
   "outputs": [],
   "source": [
    "word_list = ['0', '1', '2', '3']\n",
    "all_Wday = fullData[fullData['ADM_DAY'].str.contains('|'.join(word_list))]\n",
    "\n",
    "word_list = ['M']\n",
    "male_Wday = all_Wday[all_Wday['GENDER'].str.contains('|'.join(word_list))]\n",
    "\n",
    "word_list = ['F']\n",
    "female_Wday = all_Wday[all_Wday['GENDER'].str.contains('|'.join(word_list))]\n",
    "\n",
    "word_list = ['4', '5', '6']\n",
    "all_Wend = fullData[fullData['ADM_DAY'].str.contains('|'.join(word_list))]\n",
    "\n",
    "word_list = ['M']\n",
    "male_Wend = all_Wend[all_Wend['GENDER'].str.contains('|'.join(word_list))]\n",
    "\n",
    "word_list = ['F']\n",
    "female_Wend = all_Wend[all_Wend['GENDER'].str.contains('|'.join(word_list))]"
   ]
  },
  {
   "cell_type": "markdown",
   "metadata": {},
   "source": [
    "# Working with Probabilities"
   ]
  },
  {
   "cell_type": "code",
   "execution_count": 78,
   "metadata": {},
   "outputs": [
    {
     "name": "stdout",
     "output_type": "stream",
     "text": [
      "Probability that any ICU patient will die with a weekday admission:  0.379337096386\n",
      "Probability that a male ICU patient will die with a weekday admission:  0.371117192376\n",
      "Probability that a female ICU patient will die with a weekday admission:  0.389681005317\n",
      "Probability that any ICU patient will die with a weekend admission:  0.389256772401\n",
      "Probability that a male ICU patient will die with a weekend admission:  0.381156670242\n",
      "Probability that a female ICU patient will die with a weekend admission:  0.399620012666\n"
     ]
    }
   ],
   "source": [
    "def get_probability(data_array):\n",
    "    mortality = data_array.sum()\n",
    "    size = data_array.size\n",
    "    probability = mortality / size\n",
    "    return probability\n",
    "\n",
    "# Weekday (all)\n",
    "all_Wday_data = all_Wday['EXPIRE_FLAG'].copy().values.astype(int)\n",
    "P_all_Wday = get_probability(all_Wday_data)\n",
    "print('Probability that any ICU patient will die with a weekday admission: ', P_all_Wday)\n",
    "\n",
    "# Weekday (male)\n",
    "male_Wday_data = male_Wday['EXPIRE_FLAG'].copy().values.astype(int)\n",
    "P_male_Wday = get_probability(male_Wday_data)\n",
    "print('Probability that a male ICU patient will die with a weekday admission: ', P_male_Wday)\n",
    "\n",
    "# Weekday (female)\n",
    "female_Wday_data = female_Wday['EXPIRE_FLAG'].copy().values.astype(int)\n",
    "P_female_Wday = get_probability(female_Wday_data)\n",
    "print('Probability that a female ICU patient will die with a weekday admission: ', P_female_Wday)\n",
    "\n",
    "# Weekend (all)\n",
    "all_Wend_data = all_Wend['EXPIRE_FLAG'].copy().values.astype(int)\n",
    "P_all_Wend = get_probability(all_Wend_data)\n",
    "print('Probability that any ICU patient will die with a weekend admission: ', P_all_Wend)\n",
    "\n",
    "# Weekend (male)\n",
    "male_Wend_data = male_Wend['EXPIRE_FLAG'].copy().values.astype(int)\n",
    "P_male_Wend = get_probability(male_Wend_data)\n",
    "print('Probability that a male ICU patient will die with a weekend admission: ', P_male_Wend)\n",
    "\n",
    "# Weekend (female)\n",
    "female_Wend_data = female_Wend['EXPIRE_FLAG'].copy().values.astype(int)\n",
    "P_female_Wend = get_probability(female_Wend_data)\n",
    "print('Probability that a female ICU patient will die with a weekend admission: ', P_female_Wend)"
   ]
  },
  {
   "cell_type": "code",
   "execution_count": 99,
   "metadata": {},
   "outputs": [
    {
     "data": {
      "image/png": "[encoded data removed]",
      "text/plain": [
       "<matplotlib.figure.Figure at 0x113f062b0>"
      ]
     },
     "metadata": {},
     "output_type": "display_data"
    }
   ],
   "source": [
    "objects = ('A_Wday', 'A_Wend', 'M_Wday', 'M_Wend', 'F_Wday', 'F_Wend')\n",
    "y_pos = np.arange(len(objects))\n",
    "performance = [P_all_Wday, P_all_Wend, P_male_Wday,  P_male_Wend, P_female_Wday, P_female_Wend]\n",
    " \n",
    "plt.bar(y_pos, performance, align='center', color = ['steelblue', 'blue'], alpha=0.5)\n",
    "plt.xticks(y_pos, objects)\n",
    "plt.ylabel('Probability')\n",
    "plt.title('Probability of Mortality')\n",
    "\n",
    "plt.show()"
   ]
  },
  {
   "cell_type": "code",
   "execution_count": null,
   "metadata": {
    "collapsed": true
   },
   "outputs": [],
   "source": []
  }
 ],
 "metadata": {
  "kernelspec": {
   "display_name": "Python 3",
   "language": "python",
   "name": "python3"
  },
  "language_info": {
   "codemirror_mode": {
    "name": "ipython",
    "version": 3
   },
   "file_extension": ".py",
   "mimetype": "text/x-python",
   "name": "python",
   "nbconvert_exporter": "python",
   "pygments_lexer": "ipython3",
   "version": "3.6.1"
  }
 },
 "nbformat": 4,
 "nbformat_minor": 2
}
