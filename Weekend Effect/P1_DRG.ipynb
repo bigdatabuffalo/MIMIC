{
 "cells": [
  {
   "cell_type": "code",
   "execution_count": 1,
   "metadata": {},
   "outputs": [
    {
     "name": "stdout",
     "output_type": "stream",
     "text": [
      "Automatically created module for IPython interactive environment\n"
     ]
    }
   ],
   "source": [
    "print(__doc__)\n",
    "\n",
    "# Common imports\n",
    "import numpy as np\n",
    "import numpy.random as rnd\n",
    "import os\n",
    "import pandas as pd\n",
    "\n",
    "# To make this notebook's output stable across runs\n",
    "rnd.seed(42)\n",
    "\n",
    "# To plot pretty figures\n",
    "%matplotlib inline\n",
    "import matplotlib\n",
    "import matplotlib.pyplot as plt\n",
    "plt.rcParams['axes.labelsize'] = 14\n",
    "plt.rcParams['xtick.labelsize'] = 12\n",
    "plt.rcParams['ytick.labelsize'] = 12\n",
    "\n",
    "# Show all columns when displaying dataframes\n",
    "pd.set_option('display.max_columns', None)"
   ]
  },
  {
   "cell_type": "code",
   "execution_count": 2,
   "metadata": {
    "collapsed": true
   },
   "outputs": [],
   "source": [
    "csv_path = 'MIMIC II/DRGCODES.csv'\n",
    "drgcodes = pd.read_csv(csv_path)\n",
    "drgcodes = drgcodes.applymap(str) #done\n",
    "\n",
    "csv_path = 'MIMIC II/ADMISSIONS.csv'\n",
    "admissions = pd.read_csv(csv_path)\n",
    "admissions.fillna('NoData', inplace = True)\n",
    "admissions = admissions.applymap(str) "
   ]
  },
  {
   "cell_type": "code",
   "execution_count": 3,
   "metadata": {},
   "outputs": [],
   "source": [
    "drgcodes = drgcodes.drop(['ROW_ID'], axis = 1)\n",
    "drgcodes.fillna('NoData', inplace = True)\n",
    "\n",
    "admissions = admissions.drop(['ROW_ID', 'DISCHTIME', 'EDREGTIME', 'EDOUTTIME', 'HOSPITAL_EXPIRE_FLAG', 'DEATHTIME', 'ADMISSION_TYPE', 'DISCHARGE_LOCATION', 'INSURANCE', 'LANGUAGE', 'RELIGION', 'MARITAL_STATUS', 'ETHNICITY', 'HAS_CHARTEVENTS_DATA'], axis = 1)"
   ]
  },
  {
   "cell_type": "code",
   "execution_count": 4,
   "metadata": {},
   "outputs": [],
   "source": [
    "word_list = ['STROKE', 'CVA', 'CEREBROVASCULAR ACCIDENT', 'CEREBRAL INFARCTION']\n",
    "STROKE_diagnosis = drgcodes[drgcodes['DESCRIPTION'].str.contains('|'.join(word_list))]\n",
    "    #2493 TOTAL STROKE"
   ]
  },
  {
   "cell_type": "code",
   "execution_count": null,
   "metadata": {},
   "outputs": [],
   "source": []
  },
  {
   "cell_type": "code",
   "execution_count": 7,
   "metadata": {},
   "outputs": [
    {
     "name": "stdout",
     "output_type": "stream",
     "text": [
      "<class 'pandas.core.frame.DataFrame'>\n",
      "Int64Index: 2493 entries, 0 to 2492\n",
      "Data columns (total 10 columns):\n",
      "SUBJECT_ID            2493 non-null object\n",
      "HADM_ID               2493 non-null object\n",
      "DRG_TYPE              2493 non-null object\n",
      "DRG_CODE              2493 non-null object\n",
      "DESCRIPTION           2493 non-null object\n",
      "DRG_SEVERITY          2493 non-null object\n",
      "DRG_MORTALITY         2493 non-null object\n",
      "ADMITTIME             2493 non-null object\n",
      "ADMISSION_LOCATION    2493 non-null object\n",
      "DIAGNOSIS             2493 non-null object\n",
      "dtypes: object(10)\n",
      "memory usage: 214.2+ KB\n"
     ]
    }
   ],
   "source": [
    "df = pd.merge(STROKE_diagnosis, admissions, on = ['SUBJECT_ID', 'HADM_ID'])\n",
    "df.info()"
   ]
  },
  {
   "cell_type": "code",
   "execution_count": null,
   "metadata": {},
   "outputs": [],
   "source": []
  },
  {
   "cell_type": "code",
   "execution_count": null,
   "metadata": {
    "collapsed": true
   },
   "outputs": [],
   "source": []
  }
 ],
 "metadata": {
  "kernelspec": {
   "display_name": "Python 3",
   "language": "python",
   "name": "python3"
  },
  "language_info": {
   "codemirror_mode": {
    "name": "ipython",
    "version": 3
   },
   "file_extension": ".py",
   "mimetype": "text/x-python",
   "name": "python",
   "nbconvert_exporter": "python",
   "pygments_lexer": "ipython3",
   "version": "3.6.1"
  }
 },
 "nbformat": 4,
 "nbformat_minor": 2
}
